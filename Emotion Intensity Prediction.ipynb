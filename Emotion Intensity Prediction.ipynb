{
 "cells": [
  {
   "cell_type": "markdown",
   "metadata": {},
   "source": [
    "# UAS KS RPLD"
   ]
  },
  {
   "cell_type": "markdown",
   "metadata": {},
   "source": [
    "Notebook ini merupakan tugas pengganti Ujian Akhir Semester mata kuliah Kapita Selekta Rekayasa Perangkat Lunak dan Data yang bertujuan untuk memprediksi intensitas emosi yang terdapat dalam sebuah tweet dengan 0 sebagai nilai terendah dan 1 sebagai nilai tertinggi. Dataset yang digunakan dalam notebook diambil dari http://saifmohammad.com/WebPages/EmotionIntensity-SharedTask.html yang menyediakan data berbentuk teks dalam empat kategori emosi (fear, anger, joy, dan sadness) dan tiga kategori set (training, development, dan testing).\n",
    "\n",
    "Berikut adalah Exploratory Data Analysis, training, testing, evaluasi, dan analisis yang saya lakukan dari dataset tersebut:"
   ]
  },
  {
   "cell_type": "markdown",
   "metadata": {},
   "source": [
    "## 1. Persiapan Data\n",
    "\n",
    "### Load Training Data\n",
    "\n",
    "Notebook diawali dengan mendownload dataset dari website yang berbentuk txt dan mengubahnya menjadi csv. Jalankan kode di bawah untuk mendownload tiap dataset yang digunakan."
   ]
  },
  {
   "cell_type": "code",
   "execution_count": 1,
   "metadata": {},
   "outputs": [],
   "source": [
    "#url=\"http://saifmohammad.com/WebDocs/EmoInt%20Train%20Data/anger-ratings-0to1.train.txt\"\n",
    "#c=pd.read_csv(url, header=None, sep='\\t', names=cols, index_col=0)\n",
    "#c.to_csv('anger_train.csv')"
   ]
  },
  {
   "cell_type": "markdown",
   "metadata": {},
   "source": [
    "Setelah itu, import libraries yang dibutuhkan beserta dataset yang telah didownload tadi ke dalam notebook. Cetak salah satu dataset untuk melihat isinya."
   ]
  },
  {
   "cell_type": "code",
   "execution_count": 2,
   "metadata": {},
   "outputs": [
    {
     "data": {
      "text/html": [
       "<div>\n",
       "<style scoped>\n",
       "    .dataframe tbody tr th:only-of-type {\n",
       "        vertical-align: middle;\n",
       "    }\n",
       "\n",
       "    .dataframe tbody tr th {\n",
       "        vertical-align: top;\n",
       "    }\n",
       "\n",
       "    .dataframe thead th {\n",
       "        text-align: right;\n",
       "    }\n",
       "</style>\n",
       "<table border=\"1\" class=\"dataframe\">\n",
       "  <thead>\n",
       "    <tr style=\"text-align: right;\">\n",
       "      <th></th>\n",
       "      <th>id</th>\n",
       "      <th>text</th>\n",
       "      <th>label</th>\n",
       "      <th>intensity</th>\n",
       "    </tr>\n",
       "  </thead>\n",
       "  <tbody>\n",
       "    <tr>\n",
       "      <th>0</th>\n",
       "      <td>40000</td>\n",
       "      <td>Depression sucks! #depression</td>\n",
       "      <td>sadness</td>\n",
       "      <td>0.958</td>\n",
       "    </tr>\n",
       "    <tr>\n",
       "      <th>1</th>\n",
       "      <td>40001</td>\n",
       "      <td>Feeling worthless as always #depression</td>\n",
       "      <td>sadness</td>\n",
       "      <td>0.958</td>\n",
       "    </tr>\n",
       "    <tr>\n",
       "      <th>2</th>\n",
       "      <td>40002</td>\n",
       "      <td>Feeling worthless as always</td>\n",
       "      <td>sadness</td>\n",
       "      <td>0.958</td>\n",
       "    </tr>\n",
       "    <tr>\n",
       "      <th>3</th>\n",
       "      <td>40003</td>\n",
       "      <td>My #Fibromyalgia has been really bad lately wh...</td>\n",
       "      <td>sadness</td>\n",
       "      <td>0.946</td>\n",
       "    </tr>\n",
       "    <tr>\n",
       "      <th>4</th>\n",
       "      <td>40004</td>\n",
       "      <td>Im think ima lay in bed all day and sulk. Life...</td>\n",
       "      <td>sadness</td>\n",
       "      <td>0.934</td>\n",
       "    </tr>\n",
       "    <tr>\n",
       "      <th>5</th>\n",
       "      <td>40005</td>\n",
       "      <td>So when I try I fail... and when I don't try.....</td>\n",
       "      <td>sadness</td>\n",
       "      <td>0.917</td>\n",
       "    </tr>\n",
       "    <tr>\n",
       "      <th>6</th>\n",
       "      <td>40006</td>\n",
       "      <td>Extreme sadness</td>\n",
       "      <td>sadness</td>\n",
       "      <td>0.917</td>\n",
       "    </tr>\n",
       "    <tr>\n",
       "      <th>7</th>\n",
       "      <td>40007</td>\n",
       "      <td>my life in one word is depressing</td>\n",
       "      <td>sadness</td>\n",
       "      <td>0.917</td>\n",
       "    </tr>\n",
       "    <tr>\n",
       "      <th>8</th>\n",
       "      <td>40008</td>\n",
       "      <td>Panic attacks are the worst. Feeling really si...</td>\n",
       "      <td>sadness</td>\n",
       "      <td>0.917</td>\n",
       "    </tr>\n",
       "    <tr>\n",
       "      <th>9</th>\n",
       "      <td>40009</td>\n",
       "      <td>Feel so grim + ugly atm</td>\n",
       "      <td>sadness</td>\n",
       "      <td>0.896</td>\n",
       "    </tr>\n",
       "  </tbody>\n",
       "</table>\n",
       "</div>"
      ],
      "text/plain": [
       "      id                                               text    label  \\\n",
       "0  40000                      Depression sucks! #depression  sadness   \n",
       "1  40001            Feeling worthless as always #depression  sadness   \n",
       "2  40002                       Feeling worthless as always   sadness   \n",
       "3  40003  My #Fibromyalgia has been really bad lately wh...  sadness   \n",
       "4  40004  Im think ima lay in bed all day and sulk. Life...  sadness   \n",
       "5  40005  So when I try I fail... and when I don't try.....  sadness   \n",
       "6  40006                                    Extreme sadness  sadness   \n",
       "7  40007                  my life in one word is depressing  sadness   \n",
       "8  40008  Panic attacks are the worst. Feeling really si...  sadness   \n",
       "9  40009                            Feel so grim + ugly atm  sadness   \n",
       "\n",
       "   intensity  \n",
       "0      0.958  \n",
       "1      0.958  \n",
       "2      0.958  \n",
       "3      0.946  \n",
       "4      0.934  \n",
       "5      0.917  \n",
       "6      0.917  \n",
       "7      0.917  \n",
       "8      0.917  \n",
       "9      0.896  "
      ]
     },
     "execution_count": 2,
     "metadata": {},
     "output_type": "execute_result"
    }
   ],
   "source": [
    "import pandas as pd\n",
    "import numpy as np\n",
    "import string\n",
    "\n",
    "cols = ['id', 'text','label','intensity']\n",
    "\n",
    "anger = pd.read_csv('anger_train.csv')\n",
    "fear = pd.read_csv('fear_train.csv')\n",
    "joy = pd.read_csv('joy_train.csv')\n",
    "sad = pd.read_csv('sadness_train.csv')\n",
    "\n",
    "sad.head(10)"
   ]
  },
  {
   "cell_type": "markdown",
   "metadata": {},
   "source": [
    "Untuk mempermudah pemrosesan, gabungkan dataset yang telah diimport menjadi satu data frame. Penggabungan ini dilakukan menggunakan fungsi pd.concat() yang dimasukkan pada frame training."
   ]
  },
  {
   "cell_type": "code",
   "execution_count": 3,
   "metadata": {},
   "outputs": [
    {
     "data": {
      "text/html": [
       "<div>\n",
       "<style scoped>\n",
       "    .dataframe tbody tr th:only-of-type {\n",
       "        vertical-align: middle;\n",
       "    }\n",
       "\n",
       "    .dataframe tbody tr th {\n",
       "        vertical-align: top;\n",
       "    }\n",
       "\n",
       "    .dataframe thead th {\n",
       "        text-align: right;\n",
       "    }\n",
       "</style>\n",
       "<table border=\"1\" class=\"dataframe\">\n",
       "  <thead>\n",
       "    <tr style=\"text-align: right;\">\n",
       "      <th></th>\n",
       "      <th>index</th>\n",
       "      <th>id</th>\n",
       "      <th>text</th>\n",
       "      <th>label</th>\n",
       "      <th>intensity</th>\n",
       "    </tr>\n",
       "  </thead>\n",
       "  <tbody>\n",
       "    <tr>\n",
       "      <th>0</th>\n",
       "      <td>0</td>\n",
       "      <td>10000</td>\n",
       "      <td>How the fu*k! Who the heck! moved my fridge!.....</td>\n",
       "      <td>anger</td>\n",
       "      <td>0.938</td>\n",
       "    </tr>\n",
       "    <tr>\n",
       "      <th>1</th>\n",
       "      <td>1</td>\n",
       "      <td>10001</td>\n",
       "      <td>So my Indian Uber driver just called someone t...</td>\n",
       "      <td>anger</td>\n",
       "      <td>0.896</td>\n",
       "    </tr>\n",
       "    <tr>\n",
       "      <th>2</th>\n",
       "      <td>2</td>\n",
       "      <td>10002</td>\n",
       "      <td>@DPD_UK I asked for my parcel to be delivered ...</td>\n",
       "      <td>anger</td>\n",
       "      <td>0.896</td>\n",
       "    </tr>\n",
       "    <tr>\n",
       "      <th>3</th>\n",
       "      <td>3</td>\n",
       "      <td>10003</td>\n",
       "      <td>so ef whichever butt wipe pulled the fire alar...</td>\n",
       "      <td>anger</td>\n",
       "      <td>0.896</td>\n",
       "    </tr>\n",
       "    <tr>\n",
       "      <th>4</th>\n",
       "      <td>4</td>\n",
       "      <td>10004</td>\n",
       "      <td>Don't join @BTCare they put the phone down on ...</td>\n",
       "      <td>anger</td>\n",
       "      <td>0.896</td>\n",
       "    </tr>\n",
       "    <tr>\n",
       "      <th>5</th>\n",
       "      <td>5</td>\n",
       "      <td>10005</td>\n",
       "      <td>My blood is boiling</td>\n",
       "      <td>anger</td>\n",
       "      <td>0.875</td>\n",
       "    </tr>\n",
       "    <tr>\n",
       "      <th>6</th>\n",
       "      <td>6</td>\n",
       "      <td>10006</td>\n",
       "      <td>When you've still got a whole season of Wentwo...</td>\n",
       "      <td>anger</td>\n",
       "      <td>0.875</td>\n",
       "    </tr>\n",
       "    <tr>\n",
       "      <th>7</th>\n",
       "      <td>7</td>\n",
       "      <td>10007</td>\n",
       "      <td>@bt_uk why does tracking show my equipment del...</td>\n",
       "      <td>anger</td>\n",
       "      <td>0.875</td>\n",
       "    </tr>\n",
       "    <tr>\n",
       "      <th>8</th>\n",
       "      <td>8</td>\n",
       "      <td>10008</td>\n",
       "      <td>@TeamShanny legit why i am so furious with him...</td>\n",
       "      <td>anger</td>\n",
       "      <td>0.875</td>\n",
       "    </tr>\n",
       "    <tr>\n",
       "      <th>9</th>\n",
       "      <td>9</td>\n",
       "      <td>10009</td>\n",
       "      <td>How is it suppose to work if you do that? Wtf ...</td>\n",
       "      <td>anger</td>\n",
       "      <td>0.875</td>\n",
       "    </tr>\n",
       "  </tbody>\n",
       "</table>\n",
       "</div>"
      ],
      "text/plain": [
       "   index     id                                               text  label  \\\n",
       "0      0  10000  How the fu*k! Who the heck! moved my fridge!.....  anger   \n",
       "1      1  10001  So my Indian Uber driver just called someone t...  anger   \n",
       "2      2  10002  @DPD_UK I asked for my parcel to be delivered ...  anger   \n",
       "3      3  10003  so ef whichever butt wipe pulled the fire alar...  anger   \n",
       "4      4  10004  Don't join @BTCare they put the phone down on ...  anger   \n",
       "5      5  10005                                My blood is boiling  anger   \n",
       "6      6  10006  When you've still got a whole season of Wentwo...  anger   \n",
       "7      7  10007  @bt_uk why does tracking show my equipment del...  anger   \n",
       "8      8  10008  @TeamShanny legit why i am so furious with him...  anger   \n",
       "9      9  10009  How is it suppose to work if you do that? Wtf ...  anger   \n",
       "\n",
       "   intensity  \n",
       "0      0.938  \n",
       "1      0.896  \n",
       "2      0.896  \n",
       "3      0.896  \n",
       "4      0.896  \n",
       "5      0.875  \n",
       "6      0.875  \n",
       "7      0.875  \n",
       "8      0.875  \n",
       "9      0.875  "
      ]
     },
     "execution_count": 3,
     "metadata": {},
     "output_type": "execute_result"
    }
   ],
   "source": [
    "frames = [anger, fear, sad, joy]\n",
    "training= pd.concat(frames)\n",
    "training.reset_index(inplace = True)\n",
    "training.head(10)"
   ]
  },
  {
   "cell_type": "markdown",
   "metadata": {},
   "source": [
    "Setelah melakukan penggabungan, notebook dilanjutkan dengan Exploratory Data Analysis singkat mengenai gabungan dataset ini.\n",
    "\n",
    "### Exploratory Data Analysis\n",
    "\n",
    "Untuk memulai EDA dalam notebook ini, akan diawali dengan mencaritahu berapa banyak tweet yang terdapat di setiap label/kategori. Jumlah tweet direpresentasikan dalam histogram berikut ini."
   ]
  },
  {
   "cell_type": "code",
   "execution_count": 4,
   "metadata": {},
   "outputs": [
    {
     "data": {
      "image/png": "[encoded data removed]",
      "text/plain": [
       "<Figure size 432x288 with 1 Axes>"
      ]
     },
     "metadata": {
      "needs_background": "light"
     },
     "output_type": "display_data"
    },
    {
     "data": {
      "text/plain": [
       "fear       1147\n",
       "anger       857\n",
       "joy         823\n",
       "sadness     786\n",
       "Name: label, dtype: int64"
      ]
     },
     "execution_count": 4,
     "metadata": {},
     "output_type": "execute_result"
    }
   ],
   "source": [
    "import seaborn as sns\n",
    "from matplotlib import pyplot as plt\n",
    "\n",
    "sns.countplot(x='label', data = training)\n",
    "plt.show()\n",
    "\n",
    "training.label.value_counts()"
   ]
  },
  {
   "cell_type": "markdown",
   "metadata": {},
   "source": [
    "Dari visualisasi di atas, dapat diketahui bahwa tweet berlabel fear memiliki jumlah paling banyak (1147), diikuti dengan anger (857), joy (823), dan sadness (786). \n",
    "\n",
    "Selanjutnya, kita akan mencaritahu 20 kata terbanyak yang dipakai dari dataframe training."
   ]
  },
  {
   "cell_type": "code",
   "execution_count": 5,
   "metadata": {},
   "outputs": [
    {
     "data": {
      "text/plain": [
       "[('the', 1583),\n",
       " ('to', 1273),\n",
       " ('a', 1145),\n",
       " ('I', 1042),\n",
       " ('and', 912),\n",
       " ('', 869),\n",
       " ('of', 778),\n",
       " ('is', 757),\n",
       " ('in', 588),\n",
       " ('you', 567),\n",
       " ('my', 453),\n",
       " ('for', 431),\n",
       " ('that', 419),\n",
       " ('on', 362),\n",
       " ('it', 359),\n",
       " ('be', 340),\n",
       " ('me', 304),\n",
       " ('have', 290),\n",
       " ('so', 279),\n",
       " ('this', 275)]"
      ]
     },
     "execution_count": 5,
     "metadata": {},
     "output_type": "execute_result"
    }
   ],
   "source": [
    "from collections import Counter\n",
    "\n",
    "join_text = \" \".join(training['text'].values)\n",
    "counter_obj = Counter(join_text.split(\" \"))\n",
    "counter_obj.most_common(20)"
   ]
  },
  {
   "cell_type": "markdown",
   "metadata": {},
   "source": [
    "Dari output tersebut, dapat terlihat bahwa 20 yang frekuensinya paling banyak digunakan kebanyakan terdiri dari stopwords, yaitu kata yang tidak memiliki makna berarti. Contohnya adalah 'the', 'to', 'of', dan sebagainya.\n",
    "\n",
    "Kemudian akan divisualisasikan kata-kata yang paling banyak digunakan dalam dataframe dalam bentuk wordcloud. Wordcloud yang digunakan akan mengeliminasi kata-kata stopwords sehingga dapat menemukan kata lain yang dapat dijadikan kata kunci."
   ]
  },
  {
   "cell_type": "code",
   "execution_count": 6,
   "metadata": {
    "scrolled": true
   },
   "outputs": [
    {
     "data": {
      "image/png": "[encoded data removed]",
      "text/plain": [
       "<Figure size 1440x720 with 1 Axes>"
      ]
     },
     "metadata": {
      "needs_background": "light"
     },
     "output_type": "display_data"
    }
   ],
   "source": [
    "from wordcloud import WordCloud, STOPWORDS\n",
    "import matplotlib.pyplot as plt\n",
    "\n",
    "stopwords = set(STOPWORDS)\n",
    "wordcloud = WordCloud(max_font_size=50, stopwords = stopwords, width=800, height=400).generate(join_text)\n",
    "\n",
    "plt.figure(figsize=(20,10))\n",
    "plt.imshow(wordcloud)\n",
    "plt.axis(\"off\")\n",
    "plt.show()"
   ]
  },
  {
   "cell_type": "markdown",
   "metadata": {},
   "source": [
    "Dari wordcloud seluruh kategori di atas, berikut adalah beberapa kata yang paling sering muncul dalam tweet:\n",
    "- anger,\n",
    "- amazing,\n",
    "- good,\n",
    "- people,\n",
    "- dan seterusnya.\n",
    "\n",
    "\n",
    "Selanjutnya, akan dicaritahu berapa banyak jumlah kata, jumlah karakter, serta jumlah tanda baca yang terdapat di setiap tweet. "
   ]
  },
  {
   "cell_type": "code",
   "execution_count": 7,
   "metadata": {},
   "outputs": [
    {
     "data": {
      "text/html": [
       "<div>\n",
       "<style scoped>\n",
       "    .dataframe tbody tr th:only-of-type {\n",
       "        vertical-align: middle;\n",
       "    }\n",
       "\n",
       "    .dataframe tbody tr th {\n",
       "        vertical-align: top;\n",
       "    }\n",
       "\n",
       "    .dataframe thead th {\n",
       "        text-align: right;\n",
       "    }\n",
       "</style>\n",
       "<table border=\"1\" class=\"dataframe\">\n",
       "  <thead>\n",
       "    <tr style=\"text-align: right;\">\n",
       "      <th></th>\n",
       "      <th>word_count</th>\n",
       "      <th>char_count</th>\n",
       "      <th>punc_count</th>\n",
       "    </tr>\n",
       "  </thead>\n",
       "  <tbody>\n",
       "    <tr>\n",
       "      <th>0</th>\n",
       "      <td>18</td>\n",
       "      <td>79</td>\n",
       "      <td>12</td>\n",
       "    </tr>\n",
       "    <tr>\n",
       "      <th>1</th>\n",
       "      <td>23</td>\n",
       "      <td>97</td>\n",
       "      <td>4</td>\n",
       "    </tr>\n",
       "    <tr>\n",
       "      <th>2</th>\n",
       "      <td>19</td>\n",
       "      <td>90</td>\n",
       "      <td>4</td>\n",
       "    </tr>\n",
       "    <tr>\n",
       "      <th>3</th>\n",
       "      <td>24</td>\n",
       "      <td>111</td>\n",
       "      <td>13</td>\n",
       "    </tr>\n",
       "    <tr>\n",
       "      <th>4</th>\n",
       "      <td>24</td>\n",
       "      <td>102</td>\n",
       "      <td>6</td>\n",
       "    </tr>\n",
       "    <tr>\n",
       "      <th>5</th>\n",
       "      <td>4</td>\n",
       "      <td>16</td>\n",
       "      <td>0</td>\n",
       "    </tr>\n",
       "    <tr>\n",
       "      <th>6</th>\n",
       "      <td>25</td>\n",
       "      <td>108</td>\n",
       "      <td>6</td>\n",
       "    </tr>\n",
       "    <tr>\n",
       "      <th>7</th>\n",
       "      <td>22</td>\n",
       "      <td>115</td>\n",
       "      <td>9</td>\n",
       "    </tr>\n",
       "    <tr>\n",
       "      <th>8</th>\n",
       "      <td>14</td>\n",
       "      <td>66</td>\n",
       "      <td>3</td>\n",
       "    </tr>\n",
       "    <tr>\n",
       "      <th>9</th>\n",
       "      <td>17</td>\n",
       "      <td>62</td>\n",
       "      <td>3</td>\n",
       "    </tr>\n",
       "  </tbody>\n",
       "</table>\n",
       "</div>"
      ],
      "text/plain": [
       "   word_count  char_count  punc_count\n",
       "0          18          79          12\n",
       "1          23          97           4\n",
       "2          19          90           4\n",
       "3          24         111          13\n",
       "4          24         102           6\n",
       "5           4          16           0\n",
       "6          25         108           6\n",
       "7          22         115           9\n",
       "8          14          66           3\n",
       "9          17          62           3"
      ]
     },
     "execution_count": 7,
     "metadata": {},
     "output_type": "execute_result"
    }
   ],
   "source": [
    "punc = string.punctuation\n",
    "training['word_count'] = training['text'].apply(lambda x : len(x.split()))\n",
    "training['char_count'] = training['text'].apply(lambda x : len(x.replace(\" \",\"\")))\n",
    "training['punc_count'] = training['text'].apply(lambda x : len([a for a in x if a in punc]))\n",
    "\n",
    "\n",
    "training[['word_count', 'char_count', 'punc_count']].head(10)"
   ]
  },
  {
   "cell_type": "markdown",
   "metadata": {},
   "source": [
    "Dari output di atas, dapat diketahui bahwa wordcount berada di bawah kisaran 30 kata, dengan jumlah karakter maksimum sebanyak 140, dan tanda baca tidak lebih dari 15.\n",
    "\n",
    "Setelah menambahkan ketiga kolom tersebut, akan dilihat statistik dataframe training."
   ]
  },
  {
   "cell_type": "code",
   "execution_count": 8,
   "metadata": {},
   "outputs": [
    {
     "data": {
      "text/html": [
       "<div>\n",
       "<style scoped>\n",
       "    .dataframe tbody tr th:only-of-type {\n",
       "        vertical-align: middle;\n",
       "    }\n",
       "\n",
       "    .dataframe tbody tr th {\n",
       "        vertical-align: top;\n",
       "    }\n",
       "\n",
       "    .dataframe thead th {\n",
       "        text-align: right;\n",
       "    }\n",
       "</style>\n",
       "<table border=\"1\" class=\"dataframe\">\n",
       "  <thead>\n",
       "    <tr style=\"text-align: right;\">\n",
       "      <th></th>\n",
       "      <th>index</th>\n",
       "      <th>id</th>\n",
       "      <th>intensity</th>\n",
       "      <th>word_count</th>\n",
       "      <th>char_count</th>\n",
       "      <th>punc_count</th>\n",
       "    </tr>\n",
       "  </thead>\n",
       "  <tbody>\n",
       "    <tr>\n",
       "      <th>count</th>\n",
       "      <td>3613.000000</td>\n",
       "      <td>3613.000000</td>\n",
       "      <td>3613.000000</td>\n",
       "      <td>3613.000000</td>\n",
       "      <td>3613.000000</td>\n",
       "      <td>3613.000000</td>\n",
       "    </tr>\n",
       "    <tr>\n",
       "      <th>mean</th>\n",
       "      <td>462.437033</td>\n",
       "      <td>24719.287296</td>\n",
       "      <td>0.495199</td>\n",
       "      <td>16.033213</td>\n",
       "      <td>79.882646</td>\n",
       "      <td>4.647384</td>\n",
       "    </tr>\n",
       "    <tr>\n",
       "      <th>std</th>\n",
       "      <td>281.479047</td>\n",
       "      <td>10715.806835</td>\n",
       "      <td>0.190368</td>\n",
       "      <td>6.650965</td>\n",
       "      <td>31.094426</td>\n",
       "      <td>3.387929</td>\n",
       "    </tr>\n",
       "    <tr>\n",
       "      <th>min</th>\n",
       "      <td>0.000000</td>\n",
       "      <td>10000.000000</td>\n",
       "      <td>0.019000</td>\n",
       "      <td>1.000000</td>\n",
       "      <td>6.000000</td>\n",
       "      <td>0.000000</td>\n",
       "    </tr>\n",
       "    <tr>\n",
       "      <th>25%</th>\n",
       "      <td>225.000000</td>\n",
       "      <td>20046.000000</td>\n",
       "      <td>0.354000</td>\n",
       "      <td>10.000000</td>\n",
       "      <td>54.000000</td>\n",
       "      <td>2.000000</td>\n",
       "    </tr>\n",
       "    <tr>\n",
       "      <th>50%</th>\n",
       "      <td>451.000000</td>\n",
       "      <td>20949.000000</td>\n",
       "      <td>0.479000</td>\n",
       "      <td>17.000000</td>\n",
       "      <td>83.000000</td>\n",
       "      <td>4.000000</td>\n",
       "    </tr>\n",
       "    <tr>\n",
       "      <th>75%</th>\n",
       "      <td>677.000000</td>\n",
       "      <td>30705.000000</td>\n",
       "      <td>0.625000</td>\n",
       "      <td>22.000000</td>\n",
       "      <td>110.000000</td>\n",
       "      <td>6.000000</td>\n",
       "    </tr>\n",
       "    <tr>\n",
       "      <th>max</th>\n",
       "      <td>1146.000000</td>\n",
       "      <td>40785.000000</td>\n",
       "      <td>0.980000</td>\n",
       "      <td>32.000000</td>\n",
       "      <td>141.000000</td>\n",
       "      <td>29.000000</td>\n",
       "    </tr>\n",
       "  </tbody>\n",
       "</table>\n",
       "</div>"
      ],
      "text/plain": [
       "             index            id    intensity   word_count   char_count  \\\n",
       "count  3613.000000   3613.000000  3613.000000  3613.000000  3613.000000   \n",
       "mean    462.437033  24719.287296     0.495199    16.033213    79.882646   \n",
       "std     281.479047  10715.806835     0.190368     6.650965    31.094426   \n",
       "min       0.000000  10000.000000     0.019000     1.000000     6.000000   \n",
       "25%     225.000000  20046.000000     0.354000    10.000000    54.000000   \n",
       "50%     451.000000  20949.000000     0.479000    17.000000    83.000000   \n",
       "75%     677.000000  30705.000000     0.625000    22.000000   110.000000   \n",
       "max    1146.000000  40785.000000     0.980000    32.000000   141.000000   \n",
       "\n",
       "        punc_count  \n",
       "count  3613.000000  \n",
       "mean      4.647384  \n",
       "std       3.387929  \n",
       "min       0.000000  \n",
       "25%       2.000000  \n",
       "50%       4.000000  \n",
       "75%       6.000000  \n",
       "max      29.000000  "
      ]
     },
     "execution_count": 8,
     "metadata": {},
     "output_type": "execute_result"
    }
   ],
   "source": [
    "training.describe()"
   ]
  },
  {
   "cell_type": "markdown",
   "metadata": {},
   "source": [
    "Dari statistik ini, dapat dilihat rata-rata intensitas emosi, jumlah kata, jumlah karakter, dan jumlah tanda baca yang terdapat pada tiap tweetnya.\n",
    "\n",
    "Kali ini, dilihat frekuensi jumlah kata, jumlah tanda tanya dan tanda seru, serta jumlah emoji dalam per tweet setiap kategorinya dalam bentuk grafik. Proses ini diawali dengan import libraries yang diperlukan serta pembuatan class untuk memudahkan pemanggilan. Kemudian definisikan variabel yang akan dihitung frekuensi tweetnya, dilanjutkan dengan pendefinisian grafik yang akan digunakan "
   ]
  },
  {
   "cell_type": "code",
   "execution_count": 9,
   "metadata": {},
   "outputs": [],
   "source": [
    "import re\n",
    "import emoji\n",
    "from sklearn.base import BaseEstimator, TransformerMixin\n",
    "\n",
    "class TextCounts(BaseEstimator, TransformerMixin):\n",
    "    def count_regex(self, pattern, tweet):\n",
    "        return len(re.findall(pattern, tweet))\n",
    "    def fit(self, X, y=None, **fit_params):\n",
    "        return self\n",
    "    def transform(self, X, **transform_params):\n",
    "        count_words = X.apply(lambda x: self.count_regex(r'\\w+', x)) \n",
    "        count_excl_quest_marks = X.apply(lambda x: self.count_regex(r'!|\\?', x))\n",
    "        count_emojis = X.apply(lambda x: emoji.demojize(x)).apply(lambda x: self.count_regex(r':[a-z_&]+:', x))\n",
    "        training = pd.DataFrame({'count_words': count_words,\n",
    "                                'count_excl_quest_marks': count_excl_quest_marks, \n",
    "                                'count_emojis': count_emojis})\n",
    "        return training\n",
    "    \n",
    "tc = TextCounts()\n",
    "eda = tc.fit_transform(training.text)\n",
    "\n",
    "eda['label'] = training.label\n",
    "\n",
    "def show_dist(training, col):\n",
    "    print('Descriptive stats for {}'.format(col))\n",
    "    print('-'*(len(col)+22))\n",
    "    print(training.groupby('label')[col].describe())\n",
    "    bins = np.arange(training[col].min(), training[col].max() + 1)\n",
    "    g = sns.FacetGrid(training, col='label', height=5, hue='label')\n",
    "    g = g.map(sns.distplot, col, kde=False, norm_hist=True, bins=bins)\n",
    "    plt.show()"
   ]
  },
  {
   "cell_type": "markdown",
   "metadata": {},
   "source": [
    "Di bawah ini akan menunjukkan frekuensi jumlah kata per tweet berdasarkan tiap kategorinya. Selain itu akan ditampilkan pula statistik untuk tiap-tiap labelnya."
   ]
  },
  {
   "cell_type": "code",
   "execution_count": 10,
   "metadata": {},
   "outputs": [
    {
     "name": "stdout",
     "output_type": "stream",
     "text": [
      "Descriptive stats for count_words\n",
      "---------------------------------\n",
      "          count       mean       std  min   25%   50%   75%   max\n",
      "label                                                            \n",
      "anger     857.0  16.093349  7.064996  1.0  10.0  17.0  22.0  34.0\n",
      "fear     1147.0  16.726242  6.679266  2.0  11.0  17.0  22.0  33.0\n",
      "joy       823.0  16.120292  6.867630  2.0  10.0  16.0  22.0  33.0\n",
      "sadness   786.0  17.221374  7.227115  1.0  11.0  18.0  23.0  33.0\n"
     ]
    },
    {
     "data": {
      "image/png": "[encoded data removed]",
      "text/plain": [
       "<Figure size 1440x360 with 4 Axes>"
      ]
     },
     "metadata": {
      "needs_background": "light"
     },
     "output_type": "display_data"
    }
   ],
   "source": [
    "show_dist(eda, 'count_words')"
   ]
  },
  {
   "cell_type": "markdown",
   "metadata": {},
   "source": [
    "Jadi, dari histogram di atas dapat diketahui bahwa rata-rata jumlah kata yang berada dalam setiap tweet adalah sekitar 16 sampai 17 di tiap kategorinya.\n",
    "\n",
    "Di bawah ini akan menunjukkan frekuensi jumlah tanda tanya dan tanda seru per tweet berdasarkan tiap kategorinya. Selain itu akan ditampilkan pula statistik untuk tiap-tiap labelnya."
   ]
  },
  {
   "cell_type": "code",
   "execution_count": 11,
   "metadata": {},
   "outputs": [
    {
     "name": "stdout",
     "output_type": "stream",
     "text": [
      "Descriptive stats for count_excl_quest_marks\n",
      "--------------------------------------------\n",
      "          count      mean       std  min  25%  50%  75%  max\n",
      "label                                                       \n",
      "anger     857.0  0.383897  1.043839  0.0  0.0  0.0  0.0  9.0\n",
      "fear     1147.0  0.417611  0.942947  0.0  0.0  0.0  0.0  9.0\n",
      "joy       823.0  0.336574  0.767155  0.0  0.0  0.0  0.0  5.0\n",
      "sadness   786.0  0.330789  0.833987  0.0  0.0  0.0  0.0  6.0\n"
     ]
    },
    {
     "data": {
      "image/png": "[encoded data removed]",
      "text/plain": [
       "<Figure size 1440x360 with 4 Axes>"
      ]
     },
     "metadata": {
      "needs_background": "light"
     },
     "output_type": "display_data"
    }
   ],
   "source": [
    "show_dist(eda, 'count_excl_quest_marks')"
   ]
  },
  {
   "cell_type": "markdown",
   "metadata": {},
   "source": [
    "Jadi, dari histogram di atas dapat diketahui bahwa rata-rata jumlah tanda tanya dan tanda seru yang berada dalam setiap tweet adalah kurang dari 1 di tiap kategorinya.\n",
    "\n",
    "Di bawah ini akan menunjukkan frekuensi jumlah emoji per tweet berdasarkan tiap kategorinya. Selain itu akan ditampilkan pula statistik untuk tiap-tiap labelnya."
   ]
  },
  {
   "cell_type": "code",
   "execution_count": 12,
   "metadata": {},
   "outputs": [
    {
     "name": "stdout",
     "output_type": "stream",
     "text": [
      "Descriptive stats for count_emojis\n",
      "----------------------------------\n",
      "          count      mean       std  min  25%  50%  75%   max\n",
      "label                                                        \n",
      "anger     857.0  0.241540  0.998247  0.0  0.0  0.0  0.0  14.0\n",
      "fear     1147.0  0.151700  0.507882  0.0  0.0  0.0  0.0   5.0\n",
      "joy       823.0  0.212637  0.838395  0.0  0.0  0.0  0.0  11.0\n",
      "sadness   786.0  0.256997  2.670930  0.0  0.0  0.0  0.0  73.0\n"
     ]
    },
    {
     "data": {
      "image/png": "[encoded data removed]",
      "text/plain": [
       "<Figure size 1440x360 with 4 Axes>"
      ]
     },
     "metadata": {
      "needs_background": "light"
     },
     "output_type": "display_data"
    }
   ],
   "source": [
    "show_dist(eda, 'count_emojis')"
   ]
  },
  {
   "cell_type": "markdown",
   "metadata": {},
   "source": [
    "Jadi, dari histogram di atas dapat diketahui bahwa rata-rata jumlah emoji yang berada dalam setiap tweet adalah kurang dari satu di tiap kategorinya.\n",
    "\n",
    "Kemudian akan dilihat grafik intensitas emosi yang terdapat pada tweet berdasarkan kategorinya.\n",
    "\n",
    "- Anger"
   ]
  },
  {
   "cell_type": "code",
   "execution_count": 13,
   "metadata": {},
   "outputs": [
    {
     "data": {
      "text/plain": [
       "<matplotlib.axes._subplots.AxesSubplot at 0x1c5ea851240>"
      ]
     },
     "execution_count": 13,
     "metadata": {},
     "output_type": "execute_result"
    },
    {
     "data": {
      "image/png": "[encoded data removed]",
      "text/plain": [
       "<Figure size 432x288 with 1 Axes>"
      ]
     },
     "metadata": {
      "needs_background": "light"
     },
     "output_type": "display_data"
    }
   ],
   "source": [
    "df = training[training.label == 'anger']\n",
    "sns.distplot(df['intensity'], hist = False, kde=True, label='anger')"
   ]
  },
  {
   "cell_type": "markdown",
   "metadata": {},
   "source": [
    "Dari grafik di atas, dapat dilihat bahwa intensitas emosi anger tertinggi terletak di antara 0,4 hingga 0,6.\n",
    "\n",
    "- Fear"
   ]
  },
  {
   "cell_type": "code",
   "execution_count": 14,
   "metadata": {},
   "outputs": [
    {
     "data": {
      "text/plain": [
       "<matplotlib.axes._subplots.AxesSubplot at 0x1c5ea714c18>"
      ]
     },
     "execution_count": 14,
     "metadata": {},
     "output_type": "execute_result"
    },
    {
     "data": {
      "image/png": "[encoded data removed]",
      "text/plain": [
       "<Figure size 432x288 with 1 Axes>"
      ]
     },
     "metadata": {
      "needs_background": "light"
     },
     "output_type": "display_data"
    }
   ],
   "source": [
    "df = training[training.label == 'fear']\n",
    "sns.distplot(df['intensity'], hist = False, kde=True, label='fear')"
   ]
  },
  {
   "cell_type": "markdown",
   "metadata": {},
   "source": [
    "Dari grafik di atas, dapat dilihat bahwa intensitas emosi fear tertinggi terletak di antara 0,4 hingga 0,6.\n",
    "\n",
    "- Joy"
   ]
  },
  {
   "cell_type": "code",
   "execution_count": 15,
   "metadata": {},
   "outputs": [
    {
     "data": {
      "text/plain": [
       "<matplotlib.axes._subplots.AxesSubplot at 0x1c5ea74f048>"
      ]
     },
     "execution_count": 15,
     "metadata": {},
     "output_type": "execute_result"
    },
    {
     "data": {
      "image/png": "[encoded data removed]",
      "text/plain": [
       "<Figure size 432x288 with 1 Axes>"
      ]
     },
     "metadata": {
      "needs_background": "light"
     },
     "output_type": "display_data"
    }
   ],
   "source": [
    "df = training[training.label == 'joy']\n",
    "sns.distplot(df['intensity'], hist = False, kde=True, label='joy')"
   ]
  },
  {
   "cell_type": "markdown",
   "metadata": {},
   "source": [
    "Dari grafik di atas, dapat dilihat bahwa intensitas emosi anger tertinggi terletak di antara 0,4 hingga 0,6.\n",
    "\n",
    "- Sadness"
   ]
  },
  {
   "cell_type": "code",
   "execution_count": 16,
   "metadata": {},
   "outputs": [
    {
     "data": {
      "text/plain": [
       "<matplotlib.axes._subplots.AxesSubplot at 0x1c5ea727208>"
      ]
     },
     "execution_count": 16,
     "metadata": {},
     "output_type": "execute_result"
    },
    {
     "data": {
      "image/png": "[encoded data removed]",
      "text/plain": [
       "<Figure size 432x288 with 1 Axes>"
      ]
     },
     "metadata": {
      "needs_background": "light"
     },
     "output_type": "display_data"
    }
   ],
   "source": [
    "df = training[training.label == 'sadness']\n",
    "sns.distplot(df['intensity'], hist = False, kde=True, label='sad')"
   ]
  },
  {
   "cell_type": "markdown",
   "metadata": {},
   "source": [
    "Dari grafik di atas, dapat dilihat bahwa intensitas emosi sadness tertinggi terletak di antara 0,2 hingga 0,4.\n",
    "\n",
    "Setelah menampilkan EDA, notebook akan dilanjutkan dengan text preprocessing."
   ]
  },
  {
   "cell_type": "markdown",
   "metadata": {},
   "source": [
    "### Text Preprocessing\n",
    "\n",
    "Dalam text preprocessing, yang akan dilakukan pada tweet adalah memilah bagian text yang tidak diperlukan sehingga akan memudahkan pemrosesan ke depannya. Di notebook ini, preprocessing yang akan dilakukan adalah cleaning data tweet, lowercasing, tokenization, lemmatization, dan menghilangkan url serta stopwords."
   ]
  },
  {
   "cell_type": "code",
   "execution_count": 17,
   "metadata": {},
   "outputs": [],
   "source": [
    "import nltk\n",
    "from nltk.tokenize import WordPunctTokenizer\n",
    "from nltk.corpus import stopwords\n",
    "from nltk.stem import WordNetLemmatizer \n",
    "  \n",
    "lemmatizer = WordNetLemmatizer() \n",
    "tok = WordPunctTokenizer()\n",
    "pat1 = r'@[A-Za-z_0-9]+'\n",
    "pat2 = r'https?://[A-Za-z0-9./]+'\n",
    "pat3 = r'[0-9]+'\n",
    "combined_pat = r'|'.join((pat1, pat2, pat3))\n",
    "stop_words = set(stopwords.words('english')) "
   ]
  },
  {
   "cell_type": "markdown",
   "metadata": {},
   "source": [
    "Kemudian, bentuk fungsi pembersih data yang menggabungkan variabel-variabel di atas agar dapat beroperasi dalam satu kali pemanggilan."
   ]
  },
  {
   "cell_type": "code",
   "execution_count": 18,
   "metadata": {},
   "outputs": [],
   "source": [
    "def tweet_cleaner(data_frame):\n",
    "    print (\"Cleaning and parsing the tweets...\\n\")\n",
    "    clean_data = []\n",
    "    for index, row in data_frame.iterrows():\n",
    "        stripped = re.sub(combined_pat, '', row.text)\n",
    "        lower_case = stripped.lower()\n",
    "        words = tok.tokenize(lower_case)\n",
    "        filtered_words = [w for w in words if not w in stop_words] \n",
    "        clean_data.append((\" \".join(filtered_words)).strip())\n",
    "        \n",
    "    print (\"Done!\")\n",
    "    return clean_data"
   ]
  },
  {
   "cell_type": "markdown",
   "metadata": {},
   "source": [
    "Kemudian lakukan cleaning data pada dataframe training."
   ]
  },
  {
   "cell_type": "code",
   "execution_count": 19,
   "metadata": {},
   "outputs": [
    {
     "name": "stdout",
     "output_type": "stream",
     "text": [
      "Cleaning and parsing the tweets...\n",
      "\n",
      "Done!\n"
     ]
    }
   ],
   "source": [
    "clean_data_training_list= tweet_cleaner(training)"
   ]
  },
  {
   "cell_type": "markdown",
   "metadata": {},
   "source": [
    "Setelah cleaning data berhasil dilakukan, print dataframe training."
   ]
  },
  {
   "cell_type": "code",
   "execution_count": 20,
   "metadata": {},
   "outputs": [
    {
     "data": {
      "text/html": [
       "<div>\n",
       "<style scoped>\n",
       "    .dataframe tbody tr th:only-of-type {\n",
       "        vertical-align: middle;\n",
       "    }\n",
       "\n",
       "    .dataframe tbody tr th {\n",
       "        vertical-align: top;\n",
       "    }\n",
       "\n",
       "    .dataframe thead th {\n",
       "        text-align: right;\n",
       "    }\n",
       "</style>\n",
       "<table border=\"1\" class=\"dataframe\">\n",
       "  <thead>\n",
       "    <tr style=\"text-align: right;\">\n",
       "      <th></th>\n",
       "      <th>index</th>\n",
       "      <th>id</th>\n",
       "      <th>text</th>\n",
       "      <th>label</th>\n",
       "      <th>intensity</th>\n",
       "      <th>word_count</th>\n",
       "      <th>char_count</th>\n",
       "      <th>punc_count</th>\n",
       "    </tr>\n",
       "  </thead>\n",
       "  <tbody>\n",
       "    <tr>\n",
       "      <th>0</th>\n",
       "      <td>0</td>\n",
       "      <td>10000</td>\n",
       "      <td>fu * k ! heck ! moved fridge !... knock landlo...</td>\n",
       "      <td>anger</td>\n",
       "      <td>0.938</td>\n",
       "      <td>18</td>\n",
       "      <td>79</td>\n",
       "      <td>12</td>\n",
       "    </tr>\n",
       "    <tr>\n",
       "      <th>1</th>\n",
       "      <td>1</td>\n",
       "      <td>10001</td>\n",
       "      <td>indian uber driver called someone n word . ' m...</td>\n",
       "      <td>anger</td>\n",
       "      <td>0.896</td>\n",
       "      <td>23</td>\n",
       "      <td>97</td>\n",
       "      <td>4</td>\n",
       "    </tr>\n",
       "    <tr>\n",
       "      <th>2</th>\n",
       "      <td>2</td>\n",
       "      <td>10002</td>\n",
       "      <td>asked parcel delivered pick store address # fu...</td>\n",
       "      <td>anger</td>\n",
       "      <td>0.896</td>\n",
       "      <td>19</td>\n",
       "      <td>90</td>\n",
       "      <td>4</td>\n",
       "    </tr>\n",
       "    <tr>\n",
       "      <th>3</th>\n",
       "      <td>3</td>\n",
       "      <td>10003</td>\n",
       "      <td>ef whichever butt wipe pulled fire alarm davis...</td>\n",
       "      <td>anger</td>\n",
       "      <td>0.896</td>\n",
       "      <td>24</td>\n",
       "      <td>111</td>\n",
       "      <td>13</td>\n",
       "    </tr>\n",
       "    <tr>\n",
       "      <th>4</th>\n",
       "      <td>4</td>\n",
       "      <td>10004</td>\n",
       "      <td>' join put phone , talk rude . taking money ac...</td>\n",
       "      <td>anger</td>\n",
       "      <td>0.896</td>\n",
       "      <td>24</td>\n",
       "      <td>102</td>\n",
       "      <td>6</td>\n",
       "    </tr>\n",
       "    <tr>\n",
       "      <th>5</th>\n",
       "      <td>5</td>\n",
       "      <td>10005</td>\n",
       "      <td>blood boiling</td>\n",
       "      <td>anger</td>\n",
       "      <td>0.875</td>\n",
       "      <td>4</td>\n",
       "      <td>16</td>\n",
       "      <td>0</td>\n",
       "    </tr>\n",
       "    <tr>\n",
       "      <th>6</th>\n",
       "      <td>6</td>\n",
       "      <td>10006</td>\n",
       "      <td>' still got whole season wentworth watch stupi...</td>\n",
       "      <td>anger</td>\n",
       "      <td>0.875</td>\n",
       "      <td>25</td>\n",
       "      <td>108</td>\n",
       "      <td>6</td>\n",
       "    </tr>\n",
       "    <tr>\n",
       "      <th>7</th>\n",
       "      <td>7</td>\n",
       "      <td>10007</td>\n",
       "      <td>tracking show equipment delivered , ' ? servic...</td>\n",
       "      <td>anger</td>\n",
       "      <td>0.875</td>\n",
       "      <td>22</td>\n",
       "      <td>115</td>\n",
       "      <td>9</td>\n",
       "    </tr>\n",
       "    <tr>\n",
       "      <th>8</th>\n",
       "      <td>8</td>\n",
       "      <td>10008</td>\n",
       "      <td>legit furious , people fucking idiots .</td>\n",
       "      <td>anger</td>\n",
       "      <td>0.875</td>\n",
       "      <td>14</td>\n",
       "      <td>66</td>\n",
       "      <td>3</td>\n",
       "    </tr>\n",
       "    <tr>\n",
       "      <th>9</th>\n",
       "      <td>9</td>\n",
       "      <td>10009</td>\n",
       "      <td>suppose work ? wtf dude ? thanks pissing .</td>\n",
       "      <td>anger</td>\n",
       "      <td>0.875</td>\n",
       "      <td>17</td>\n",
       "      <td>62</td>\n",
       "      <td>3</td>\n",
       "    </tr>\n",
       "  </tbody>\n",
       "</table>\n",
       "</div>"
      ],
      "text/plain": [
       "   index     id                                               text  label  \\\n",
       "0      0  10000  fu * k ! heck ! moved fridge !... knock landlo...  anger   \n",
       "1      1  10001  indian uber driver called someone n word . ' m...  anger   \n",
       "2      2  10002  asked parcel delivered pick store address # fu...  anger   \n",
       "3      3  10003  ef whichever butt wipe pulled fire alarm davis...  anger   \n",
       "4      4  10004  ' join put phone , talk rude . taking money ac...  anger   \n",
       "5      5  10005                                      blood boiling  anger   \n",
       "6      6  10006  ' still got whole season wentworth watch stupi...  anger   \n",
       "7      7  10007  tracking show equipment delivered , ' ? servic...  anger   \n",
       "8      8  10008            legit furious , people fucking idiots .  anger   \n",
       "9      9  10009         suppose work ? wtf dude ? thanks pissing .  anger   \n",
       "\n",
       "   intensity  word_count  char_count  punc_count  \n",
       "0      0.938          18          79          12  \n",
       "1      0.896          23          97           4  \n",
       "2      0.896          19          90           4  \n",
       "3      0.896          24         111          13  \n",
       "4      0.896          24         102           6  \n",
       "5      0.875           4          16           0  \n",
       "6      0.875          25         108           6  \n",
       "7      0.875          22         115           9  \n",
       "8      0.875          14          66           3  \n",
       "9      0.875          17          62           3  "
      ]
     },
     "execution_count": 20,
     "metadata": {},
     "output_type": "execute_result"
    }
   ],
   "source": [
    "training.text = pd.DataFrame(clean_data_training_list)\n",
    "training.head(10)"
   ]
  },
  {
   "cell_type": "markdown",
   "metadata": {},
   "source": [
    "Apabila ingin mengetahui perbedaan sebelum dan sesudah melakukan text preprocessing, dapat dilakukan pencetakan kolom jumlah kata, jumlah karakter, serta jumlah tanda baca kembali."
   ]
  },
  {
   "cell_type": "code",
   "execution_count": 21,
   "metadata": {},
   "outputs": [
    {
     "data": {
      "text/html": [
       "<div>\n",
       "<style scoped>\n",
       "    .dataframe tbody tr th:only-of-type {\n",
       "        vertical-align: middle;\n",
       "    }\n",
       "\n",
       "    .dataframe tbody tr th {\n",
       "        vertical-align: top;\n",
       "    }\n",
       "\n",
       "    .dataframe thead th {\n",
       "        text-align: right;\n",
       "    }\n",
       "</style>\n",
       "<table border=\"1\" class=\"dataframe\">\n",
       "  <thead>\n",
       "    <tr style=\"text-align: right;\">\n",
       "      <th></th>\n",
       "      <th>word_count</th>\n",
       "      <th>char_count</th>\n",
       "      <th>punc_count</th>\n",
       "    </tr>\n",
       "  </thead>\n",
       "  <tbody>\n",
       "    <tr>\n",
       "      <th>0</th>\n",
       "      <td>18</td>\n",
       "      <td>79</td>\n",
       "      <td>12</td>\n",
       "    </tr>\n",
       "    <tr>\n",
       "      <th>1</th>\n",
       "      <td>23</td>\n",
       "      <td>97</td>\n",
       "      <td>4</td>\n",
       "    </tr>\n",
       "    <tr>\n",
       "      <th>2</th>\n",
       "      <td>19</td>\n",
       "      <td>90</td>\n",
       "      <td>4</td>\n",
       "    </tr>\n",
       "    <tr>\n",
       "      <th>3</th>\n",
       "      <td>24</td>\n",
       "      <td>111</td>\n",
       "      <td>13</td>\n",
       "    </tr>\n",
       "    <tr>\n",
       "      <th>4</th>\n",
       "      <td>24</td>\n",
       "      <td>102</td>\n",
       "      <td>6</td>\n",
       "    </tr>\n",
       "    <tr>\n",
       "      <th>5</th>\n",
       "      <td>4</td>\n",
       "      <td>16</td>\n",
       "      <td>0</td>\n",
       "    </tr>\n",
       "    <tr>\n",
       "      <th>6</th>\n",
       "      <td>25</td>\n",
       "      <td>108</td>\n",
       "      <td>6</td>\n",
       "    </tr>\n",
       "    <tr>\n",
       "      <th>7</th>\n",
       "      <td>22</td>\n",
       "      <td>115</td>\n",
       "      <td>9</td>\n",
       "    </tr>\n",
       "    <tr>\n",
       "      <th>8</th>\n",
       "      <td>14</td>\n",
       "      <td>66</td>\n",
       "      <td>3</td>\n",
       "    </tr>\n",
       "    <tr>\n",
       "      <th>9</th>\n",
       "      <td>17</td>\n",
       "      <td>62</td>\n",
       "      <td>3</td>\n",
       "    </tr>\n",
       "  </tbody>\n",
       "</table>\n",
       "</div>"
      ],
      "text/plain": [
       "   word_count  char_count  punc_count\n",
       "0          18          79          12\n",
       "1          23          97           4\n",
       "2          19          90           4\n",
       "3          24         111          13\n",
       "4          24         102           6\n",
       "5           4          16           0\n",
       "6          25         108           6\n",
       "7          22         115           9\n",
       "8          14          66           3\n",
       "9          17          62           3"
      ]
     },
     "execution_count": 21,
     "metadata": {},
     "output_type": "execute_result"
    }
   ],
   "source": [
    "training[['word_count', 'char_count', 'punc_count']].head(10)"
   ]
  },
  {
   "cell_type": "markdown",
   "metadata": {},
   "source": [
    "Setelah melihat perbedaannya, simpan dataframe training dalam bentuk csv untuk memudahkan pemakaian kembali."
   ]
  },
  {
   "cell_type": "code",
   "execution_count": 22,
   "metadata": {},
   "outputs": [],
   "source": [
    "training.to_csv('emotion_training.csv',encoding='utf-8')"
   ]
  },
  {
   "cell_type": "markdown",
   "metadata": {},
   "source": [
    "Notebook akan dilanjutkan dengan melakukan training terhadap tweet."
   ]
  },
  {
   "cell_type": "markdown",
   "metadata": {},
   "source": [
    "## 2. Training Data\n",
    "\n",
    "Dalam melakukan training terhadap dataset, sebelumnya perlu terlebih dahulu melakukan Feature Extraction.\n",
    "\n",
    "### Feature Extraction\n",
    "\n",
    "Notebook ini akan melakukan Feature Extraction melalui beberapa metode, yaitu Bag of Words dan TF-IDF.\n",
    "\n",
    "#### 1. Bag of Words\n",
    "Fitur Bag of Words (BoW) digunakan untuk mengetahui berapa kali sebuah kata muncul dalam sebuah tweet dengan membuat vocabulary berisi kata-kata unik yang berada pada seluruh tweet.\n",
    "\n",
    "Awalnya, buat vocabulary berisi kata-kata unik yang berada pada seluruh tweet dengan menjadikan satu kata-kata tersebut dalam sebuah vector. "
   ]
  },
  {
   "cell_type": "code",
   "execution_count": 23,
   "metadata": {},
   "outputs": [
    {
     "name": "stdout",
     "output_type": "stream",
     "text": [
      "['absolutely', 'accept', 'act', 'actually', 'afraid', 'alarm', 'almost', 'already', 'also', 'always', 'amazing', 'america', 'amp', 'anger', 'angry', 'animated', 'another', 'anxiety', 'anyone', 'anything', 'around', 'asked', 'ass', 'attack', 'away', 'awe', 'awful', 'back', 'bad', 'bb', 'bc', 'beautiful', 'believe', 'best', 'better', 'big', 'birthday', 'bit', 'bitter', 'black', 'blame', 'blood', 'blues', 'boiling', 'book', 'boy', 'break', 'breezy', 'bright', 'broadcast', 'bully', 'burning', 'burst', 'call', 'called', 'car', 'care', 'cause', 'change', 'charlotte', 'cheer', 'cheerful', 'cheerfully', 'cheering', 'cheery', 'child', 'chirp', 'city', 'class', 'come', 'comes', 'coming', 'concern', 'contact', 'could', 'country', 'cry', 'crying', 'customer', 'cut', 'damn', 'dark', 'date', 'day', 'days', 'delight', 'depressing', 'depression', 'despair', 'die', 'discouraged', 'dog', 'done', 'dont', 'dreadful', 'dream', 'drop', 'dull', 'eat', 'either', 'elated', 'else', 'end', 'enough', 'episode', 'etc', 'even', 'ever', 'every', 'everyone', 'everything', 'excited', 'exhilarating', 'expect', 'experience', 'face', 'fact', 'fall', 'family', 'fans', 'far', 'fear', 'feel', 'feeling', 'feels', 'felt', 'fight', 'finally', 'find', 'fire', 'first', 'follow', 'food', 'forgot', 'found', 'free', 'fret', 'friends', 'frown', 'fuck', 'fucking', 'full', 'fuming', 'fun', 'funny', 'furious', 'fury', 'future', 'game', 'gave', 'gbbo', 'get', 'gets', 'getting', 'girl', 'give', 'glee', 'gloom', 'gloomy', 'go', 'god', 'goes', 'going', 'gone', 'gonna', 'good', 'got', 'great', 'grim', 'grudge', 'gt', 'guess', 'guy', 'guys', 'haha', 'hair', 'half', 'hands', 'happen', 'happened', 'happiness', 'happy', 'hard', 'hate', 'head', 'hear', 'heart', 'hearty', 'hell', 'help', 'hey', 'high', 'hilarious', 'hilarity', 'hillary', 'hold', 'home', 'honestly', 'hope', 'horrible', 'horrid', 'horrific', 'horror', 'hour', 'hours', 'house', 'human', 'hurt', 'im', 'india', 'interview', 'irritate', 'job', 'joke', 'joy', 'joyful', 'joyous', 'keep', 'kid', 'kids', 'kind', 'kinda', 'know', 'last', 'late', 'laugh', 'laughing', 'laughter', 'least', 'leave', 'left', 'less', 'let', 'lies', 'life', 'like', 'literally', 'little', 'live', 'lively', 'lmao', 'lol', 'long', 'look', 'looking', 'looks', 'lord', 'lost', 'lot', 'love', 'ly', 'mad', 'madden', 'made', 'make', 'makes', 'making', 'man', 'many', 'may', 'maybe', 'mean', 'media', 'men', 'might', 'mind', 'miss', 'moment', 'money', 'month', 'morning', 'mourn', 'movie', 'moving', 'much', 'music', 'musically', 'must', 'name', 'need', 'needs', 'nervous', 'never', 'new', 'news', 'next', 'ni', 'nice', 'night', 'nightmare', 'nothing', 'offend', 'offended', 'offense', 'oh', 'ok', 'okay', 'old', 'one', 'optimism', 'order', 'outrage', 'outside', 'pakistan', 'panic', 'part', 'past', 'paul', 'peace', 'people', 'perfect', 'person', 'phone', 'pick', 'pine', 'place', 'play', 'played', 'players', 'playful', 'playing', 'please', 'pleasing', 'point', 'police', 'post', 'pout', 'pretty', 'problem', 'put', 'quite', 'quote', 'rabid', 'racism', 'rage', 'raging', 'rather', 'real', 'really', 'rejoice', 'rejoicing', 'relentless', 'remember', 'rest', 'restless', 'revenge', 'right', 'rojo', 'room', 'run', 'sad', 'sadly', 'sadness', 'said', 'saturday', 'say', 'saying', 'says', 'scare', 'scared', 'school', 'season', 'see', 'seeing', 'seen', 'self', 'sense', 'serious', 'seriously', 'service', 'shake', 'shaking', 'shit', 'shocking', 'show', 'shy', 'sick', 'side', 'since', 'sink', 'situation', 'sleep', 'smile', 'smiling', 'snap', 'snapchat', 'sober', 'someone', 'something', 'sometimes', 'soon', 'sorry', 'sparkling', 'start', 'started', 'stayed', 'step', 'still', 'sting', 'stop', 'story', 'stupid', 'success', 'sunk', 'support', 'supposed', 'sure', 'sweet', 'take', 'takes', 'taking', 'talk', 'talking', 'team', 'tears', 'tell', 'terrible', 'terrific', 'terror', 'terrorism', 'test', 'texans', 'thank', 'thanks', 'thing', 'things', 'think', 'though', 'thought', 'time', 'times', 'tired', 'today', 'together', 'told', 'tomorrow', 'tonight', 'took', 'top', 'tried', 'true', 'truly', 'trump', 'truth', 'try', 'trying', 'turn', 'tv', 'twitter', 'two', 'unhappy', 'ur', 'us', 'use', 'used', 'video', 'vote', 'wait', 'waiting', 'wake', 'wanna', 'want', 'wanted', 'war', 'watch', 'watched', 'watching', 'water', 'way', 'weary', 'week', 'weeks', 'well', 'went', 'white', 'whole', 'win', 'wish', 'within', 'without', 'woman', 'wonder', 'word', 'words', 'work', 'working', 'world', 'worry', 'worst', 'would', 'wow', 'wrath', 'wrong', 'wtf', 'yeah', 'year', 'years', 'yes', 'yesterday', 'yet']\n"
     ]
    }
   ],
   "source": [
    "from sklearn.feature_extraction.text import CountVectorizer\n",
    "vectorizer = CountVectorizer(max_features=500)\n",
    "X_BoW = vectorizer.fit_transform(training.text)\n",
    "print(vectorizer.get_feature_names())"
   ]
  },
  {
   "cell_type": "markdown",
   "metadata": {},
   "source": [
    "Untuk mengerti tentang penggunaan BoW, kita akan mencoba memasukkan sebuah kalimat untuk mengetahui apakah kata pembentuk kalimat tersebut berada pada vocabulary ini."
   ]
  },
  {
   "cell_type": "code",
   "execution_count": 24,
   "metadata": {},
   "outputs": [
    {
     "name": "stdout",
     "output_type": "stream",
     "text": [
      "  (0, 243)\t1\n",
      "  (0, 489)\t1\n",
      "  (0, 490)\t1\n"
     ]
    }
   ],
   "source": [
    "transformed_BoW = vectorizer.transform([\"wow would you look at that\"])\n",
    "print (transformed_BoW)"
   ]
  },
  {
   "cell_type": "markdown",
   "metadata": {},
   "source": [
    "Apabila dijadikan dalam bentuk sebuah array, maka kalimat tersebut akan direpresentasikan seperti di bawah ini."
   ]
  },
  {
   "cell_type": "code",
   "execution_count": 25,
   "metadata": {},
   "outputs": [
    {
     "name": "stdout",
     "output_type": "stream",
     "text": [
      "[[0 0 0 0 0 0 0 0 0 0 0 0 0 0 0 0 0 0 0 0 0 0 0 0 0 0 0 0 0 0 0 0 0 0 0 0\n",
      "  0 0 0 0 0 0 0 0 0 0 0 0 0 0 0 0 0 0 0 0 0 0 0 0 0 0 0 0 0 0 0 0 0 0 0 0\n",
      "  0 0 0 0 0 0 0 0 0 0 0 0 0 0 0 0 0 0 0 0 0 0 0 0 0 0 0 0 0 0 0 0 0 0 0 0\n",
      "  0 0 0 0 0 0 0 0 0 0 0 0 0 0 0 0 0 0 0 0 0 0 0 0 0 0 0 0 0 0 0 0 0 0 0 0\n",
      "  0 0 0 0 0 0 0 0 0 0 0 0 0 0 0 0 0 0 0 0 0 0 0 0 0 0 0 0 0 0 0 0 0 0 0 0\n",
      "  0 0 0 0 0 0 0 0 0 0 0 0 0 0 0 0 0 0 0 0 0 0 0 0 0 0 0 0 0 0 0 0 0 0 0 0\n",
      "  0 0 0 0 0 0 0 0 0 0 0 0 0 0 0 0 0 0 0 0 0 0 0 0 0 0 0 1 0 0 0 0 0 0 0 0\n",
      "  0 0 0 0 0 0 0 0 0 0 0 0 0 0 0 0 0 0 0 0 0 0 0 0 0 0 0 0 0 0 0 0 0 0 0 0\n",
      "  0 0 0 0 0 0 0 0 0 0 0 0 0 0 0 0 0 0 0 0 0 0 0 0 0 0 0 0 0 0 0 0 0 0 0 0\n",
      "  0 0 0 0 0 0 0 0 0 0 0 0 0 0 0 0 0 0 0 0 0 0 0 0 0 0 0 0 0 0 0 0 0 0 0 0\n",
      "  0 0 0 0 0 0 0 0 0 0 0 0 0 0 0 0 0 0 0 0 0 0 0 0 0 0 0 0 0 0 0 0 0 0 0 0\n",
      "  0 0 0 0 0 0 0 0 0 0 0 0 0 0 0 0 0 0 0 0 0 0 0 0 0 0 0 0 0 0 0 0 0 0 0 0\n",
      "  0 0 0 0 0 0 0 0 0 0 0 0 0 0 0 0 0 0 0 0 0 0 0 0 0 0 0 0 0 0 0 0 0 0 0 0\n",
      "  0 0 0 0 0 0 0 0 0 0 0 0 0 0 0 0 0 0 0 0 0 1 1 0 0 0 0 0 0 0 0 0]]\n"
     ]
    }
   ],
   "source": [
    "print (transformed_BoW.toarray())"
   ]
  },
  {
   "cell_type": "markdown",
   "metadata": {},
   "source": [
    "Dari contoh kalimat di atas, dapat diketahui bahwa terdapat tiga kata yang berada di dalam vocabulary. Yaitu pada kata ke- 244, 490, dan 491. \n",
    "\n",
    "Selanjutnya, notebook akan diteruskan dengan penerapan TF-IDF.\n",
    "\n",
    "#### 2. TF-IDF\n",
    "Yang membedakan TF-IDF dari BoW adalah selain direpresentasikan dalam bentuk vector, sebuah kata akan dihitung bobotnya (seberapa penting ) kata tersebut dalam seluruh dokumen.\n",
    "\n",
    "Untuk memulai TF-IDF, kita dapat membuat vocabulary-nya erlebih dahulu dalam bentuk array."
   ]
  },
  {
   "cell_type": "code",
   "execution_count": 26,
   "metadata": {},
   "outputs": [
    {
     "name": "stdout",
     "output_type": "stream",
     "text": [
      "['absolutely', 'accept', 'act', 'actually', 'afraid', 'alarm', 'almost', 'already', 'also', 'always', 'amazing', 'america', 'amp', 'anger', 'angry', 'animated', 'another', 'anxiety', 'anyone', 'anything', 'around', 'asked', 'ass', 'attack', 'away', 'awe', 'awful', 'back', 'bad', 'bb', 'bc', 'beautiful', 'believe', 'best', 'better', 'big', 'birthday', 'bit', 'bitter', 'black', 'blame', 'blood', 'blues', 'boiling', 'book', 'boy', 'break', 'breezy', 'bright', 'broadcast', 'bully', 'burning', 'burst', 'call', 'called', 'car', 'care', 'cause', 'change', 'charlotte', 'cheer', 'cheerful', 'cheerfully', 'cheering', 'cheery', 'child', 'chirp', 'city', 'class', 'come', 'comes', 'coming', 'concern', 'contact', 'could', 'country', 'cry', 'crying', 'customer', 'cut', 'damn', 'dark', 'date', 'day', 'days', 'delight', 'depressing', 'depression', 'despair', 'die', 'discouraged', 'dog', 'done', 'dont', 'dreadful', 'dream', 'drop', 'dull', 'eat', 'either', 'elated', 'else', 'end', 'enough', 'episode', 'etc', 'even', 'ever', 'every', 'everyone', 'everything', 'excited', 'exhilarating', 'expect', 'experience', 'face', 'fact', 'fall', 'family', 'fans', 'far', 'fear', 'feel', 'feeling', 'feels', 'felt', 'fight', 'finally', 'find', 'fire', 'first', 'follow', 'food', 'forgot', 'found', 'free', 'fret', 'friends', 'frown', 'fuck', 'fucking', 'full', 'fuming', 'fun', 'funny', 'furious', 'fury', 'future', 'game', 'gave', 'gbbo', 'get', 'gets', 'getting', 'girl', 'give', 'glee', 'gloom', 'gloomy', 'go', 'god', 'goes', 'going', 'gone', 'gonna', 'good', 'got', 'great', 'grim', 'grudge', 'gt', 'guess', 'guy', 'guys', 'haha', 'hair', 'half', 'hands', 'happen', 'happened', 'happiness', 'happy', 'hard', 'hate', 'head', 'hear', 'heart', 'hearty', 'hell', 'help', 'hey', 'high', 'hilarious', 'hilarity', 'hillary', 'hold', 'home', 'honestly', 'hope', 'horrible', 'horrid', 'horrific', 'horror', 'hour', 'hours', 'house', 'human', 'hurt', 'im', 'india', 'interview', 'irritate', 'job', 'joke', 'joy', 'joyful', 'joyous', 'keep', 'kid', 'kids', 'kind', 'kinda', 'know', 'last', 'late', 'laugh', 'laughing', 'laughter', 'least', 'leave', 'left', 'less', 'let', 'lies', 'life', 'like', 'literally', 'little', 'live', 'lively', 'lmao', 'lol', 'long', 'look', 'looking', 'looks', 'lord', 'lost', 'lot', 'love', 'ly', 'mad', 'madden', 'made', 'make', 'makes', 'making', 'man', 'many', 'may', 'maybe', 'mean', 'media', 'men', 'might', 'mind', 'miss', 'moment', 'money', 'month', 'morning', 'mourn', 'movie', 'moving', 'much', 'music', 'musically', 'must', 'name', 'need', 'needs', 'nervous', 'never', 'new', 'news', 'next', 'ni', 'nice', 'night', 'nightmare', 'nothing', 'offend', 'offended', 'offense', 'oh', 'ok', 'okay', 'old', 'one', 'optimism', 'order', 'outrage', 'outside', 'pakistan', 'panic', 'part', 'past', 'paul', 'peace', 'people', 'perfect', 'person', 'phone', 'pick', 'pine', 'place', 'play', 'played', 'players', 'playful', 'playing', 'please', 'pleasing', 'point', 'police', 'post', 'pout', 'pretty', 'problem', 'put', 'quite', 'quote', 'rabid', 'racism', 'rage', 'raging', 'rather', 'real', 'really', 'rejoice', 'rejoicing', 'relentless', 'remember', 'rest', 'restless', 'revenge', 'right', 'rojo', 'room', 'run', 'sad', 'sadly', 'sadness', 'said', 'saturday', 'say', 'saying', 'says', 'scare', 'scared', 'school', 'season', 'see', 'seeing', 'seen', 'self', 'sense', 'serious', 'seriously', 'service', 'shake', 'shaking', 'shit', 'shocking', 'show', 'shy', 'sick', 'side', 'since', 'sink', 'situation', 'sleep', 'smile', 'smiling', 'snap', 'snapchat', 'sober', 'someone', 'something', 'sometimes', 'soon', 'sorry', 'sparkling', 'start', 'started', 'stayed', 'step', 'still', 'sting', 'stop', 'story', 'stupid', 'success', 'sunk', 'support', 'supposed', 'sure', 'sweet', 'take', 'takes', 'taking', 'talk', 'talking', 'team', 'tears', 'tell', 'terrible', 'terrific', 'terror', 'terrorism', 'test', 'texans', 'thank', 'thanks', 'thing', 'things', 'think', 'though', 'thought', 'time', 'times', 'tired', 'today', 'together', 'told', 'tomorrow', 'tonight', 'took', 'top', 'tried', 'true', 'truly', 'trump', 'truth', 'try', 'trying', 'turn', 'tv', 'twitter', 'two', 'unhappy', 'ur', 'us', 'use', 'used', 'video', 'vote', 'wait', 'waiting', 'wake', 'wanna', 'want', 'wanted', 'war', 'watch', 'watched', 'watching', 'water', 'way', 'weary', 'week', 'weeks', 'well', 'went', 'white', 'whole', 'win', 'wish', 'within', 'without', 'woman', 'wonder', 'word', 'words', 'work', 'working', 'world', 'worry', 'worst', 'would', 'wow', 'wrath', 'wrong', 'wtf', 'yeah', 'year', 'years', 'yes', 'yesterday', 'yet']\n"
     ]
    }
   ],
   "source": [
    "from sklearn.feature_extraction.text import TfidfVectorizer\n",
    "vectorizer_tfidf = TfidfVectorizer(max_features=500)\n",
    "X_tfidf = vectorizer_tfidf.fit_transform(training.text)\n",
    "print(vectorizer_tfidf.get_feature_names())"
   ]
  },
  {
   "cell_type": "markdown",
   "metadata": {},
   "source": [
    "Perbedaannya dengan BoW akan terlihat setelah dimasukkan sebuah kalimat untuk dilihat availabilitynya."
   ]
  },
  {
   "cell_type": "code",
   "execution_count": 27,
   "metadata": {},
   "outputs": [
    {
     "name": "stdout",
     "output_type": "stream",
     "text": [
      "  (0, 490)\t0.6579746125115302\n",
      "  (0, 489)\t0.4953591680379262\n",
      "  (0, 243)\t0.5671760784192816\n"
     ]
    }
   ],
   "source": [
    "transformed_tfidf = vectorizer_tfidf.transform([\"wow would you look at that\"])\n",
    "print (transformed_tfidf)"
   ]
  },
  {
   "cell_type": "markdown",
   "metadata": {},
   "source": [
    "Dapat dilihat di sini bahwa selain menunjukkan tempat di mana kata tersebut berada, TF-IDF juga memberikan informasi berupa angka yang merupakan bobot sebuah kata tersebut. Apabila direpresentasikan dalam bentuk array, maka akan terlihat seperti ini."
   ]
  },
  {
   "cell_type": "code",
   "execution_count": 28,
   "metadata": {},
   "outputs": [
    {
     "name": "stdout",
     "output_type": "stream",
     "text": [
      "[[0.         0.         0.         0.         0.         0.\n",
      "  0.         0.         0.         0.         0.         0.\n",
      "  0.         0.         0.         0.         0.         0.\n",
      "  0.         0.         0.         0.         0.         0.\n",
      "  0.         0.         0.         0.         0.         0.\n",
      "  0.         0.         0.         0.         0.         0.\n",
      "  0.         0.         0.         0.         0.         0.\n",
      "  0.         0.         0.         0.         0.         0.\n",
      "  0.         0.         0.         0.         0.         0.\n",
      "  0.         0.         0.         0.         0.         0.\n",
      "  0.         0.         0.         0.         0.         0.\n",
      "  0.         0.         0.         0.         0.         0.\n",
      "  0.         0.         0.         0.         0.         0.\n",
      "  0.         0.         0.         0.         0.         0.\n",
      "  0.         0.         0.         0.         0.         0.\n",
      "  0.         0.         0.         0.         0.         0.\n",
      "  0.         0.         0.         0.         0.         0.\n",
      "  0.         0.         0.         0.         0.         0.\n",
      "  0.         0.         0.         0.         0.         0.\n",
      "  0.         0.         0.         0.         0.         0.\n",
      "  0.         0.         0.         0.         0.         0.\n",
      "  0.         0.         0.         0.         0.         0.\n",
      "  0.         0.         0.         0.         0.         0.\n",
      "  0.         0.         0.         0.         0.         0.\n",
      "  0.         0.         0.         0.         0.         0.\n",
      "  0.         0.         0.         0.         0.         0.\n",
      "  0.         0.         0.         0.         0.         0.\n",
      "  0.         0.         0.         0.         0.         0.\n",
      "  0.         0.         0.         0.         0.         0.\n",
      "  0.         0.         0.         0.         0.         0.\n",
      "  0.         0.         0.         0.         0.         0.\n",
      "  0.         0.         0.         0.         0.         0.\n",
      "  0.         0.         0.         0.         0.         0.\n",
      "  0.         0.         0.         0.         0.         0.\n",
      "  0.         0.         0.         0.         0.         0.\n",
      "  0.         0.         0.         0.         0.         0.\n",
      "  0.         0.         0.         0.         0.         0.\n",
      "  0.         0.         0.         0.         0.         0.\n",
      "  0.         0.         0.         0.         0.         0.\n",
      "  0.         0.         0.         0.         0.         0.\n",
      "  0.         0.         0.         0.56717608 0.         0.\n",
      "  0.         0.         0.         0.         0.         0.\n",
      "  0.         0.         0.         0.         0.         0.\n",
      "  0.         0.         0.         0.         0.         0.\n",
      "  0.         0.         0.         0.         0.         0.\n",
      "  0.         0.         0.         0.         0.         0.\n",
      "  0.         0.         0.         0.         0.         0.\n",
      "  0.         0.         0.         0.         0.         0.\n",
      "  0.         0.         0.         0.         0.         0.\n",
      "  0.         0.         0.         0.         0.         0.\n",
      "  0.         0.         0.         0.         0.         0.\n",
      "  0.         0.         0.         0.         0.         0.\n",
      "  0.         0.         0.         0.         0.         0.\n",
      "  0.         0.         0.         0.         0.         0.\n",
      "  0.         0.         0.         0.         0.         0.\n",
      "  0.         0.         0.         0.         0.         0.\n",
      "  0.         0.         0.         0.         0.         0.\n",
      "  0.         0.         0.         0.         0.         0.\n",
      "  0.         0.         0.         0.         0.         0.\n",
      "  0.         0.         0.         0.         0.         0.\n",
      "  0.         0.         0.         0.         0.         0.\n",
      "  0.         0.         0.         0.         0.         0.\n",
      "  0.         0.         0.         0.         0.         0.\n",
      "  0.         0.         0.         0.         0.         0.\n",
      "  0.         0.         0.         0.         0.         0.\n",
      "  0.         0.         0.         0.         0.         0.\n",
      "  0.         0.         0.         0.         0.         0.\n",
      "  0.         0.         0.         0.         0.         0.\n",
      "  0.         0.         0.         0.         0.         0.\n",
      "  0.         0.         0.         0.         0.         0.\n",
      "  0.         0.         0.         0.         0.         0.\n",
      "  0.         0.         0.         0.         0.         0.\n",
      "  0.         0.         0.         0.         0.         0.\n",
      "  0.         0.         0.         0.         0.         0.\n",
      "  0.         0.         0.         0.         0.         0.\n",
      "  0.         0.         0.         0.         0.         0.\n",
      "  0.         0.         0.         0.         0.         0.\n",
      "  0.         0.         0.         0.         0.         0.\n",
      "  0.         0.         0.         0.         0.         0.\n",
      "  0.         0.         0.         0.         0.         0.\n",
      "  0.         0.         0.         0.         0.         0.\n",
      "  0.         0.         0.         0.49535917 0.65797461 0.\n",
      "  0.         0.         0.         0.         0.         0.\n",
      "  0.         0.        ]]\n"
     ]
    }
   ],
   "source": [
    "print (transformed_tfidf.toarray())"
   ]
  },
  {
   "cell_type": "markdown",
   "metadata": {},
   "source": [
    "### Training\n",
    "\n",
    "Dalam bagian ini, akan dibuat model prediksi yang digunakan untuk mengetahui intensitas emosi yang terdapat dalam tiap tweet. Model yang digunakan di sini adalah Support Vector Regression.\n",
    "\n",
    "Awalnya, load dataset yang akan diperlukan untuk testing, yaitu dataset development. Gabungkan tiap dataset menjadi dataframe dev."
   ]
  },
  {
   "cell_type": "code",
   "execution_count": 29,
   "metadata": {},
   "outputs": [
    {
     "data": {
      "text/html": [
       "<div>\n",
       "<style scoped>\n",
       "    .dataframe tbody tr th:only-of-type {\n",
       "        vertical-align: middle;\n",
       "    }\n",
       "\n",
       "    .dataframe tbody tr th {\n",
       "        vertical-align: top;\n",
       "    }\n",
       "\n",
       "    .dataframe thead th {\n",
       "        text-align: right;\n",
       "    }\n",
       "</style>\n",
       "<table border=\"1\" class=\"dataframe\">\n",
       "  <thead>\n",
       "    <tr style=\"text-align: right;\">\n",
       "      <th></th>\n",
       "      <th>index</th>\n",
       "      <th>id</th>\n",
       "      <th>text</th>\n",
       "      <th>label</th>\n",
       "      <th>intensity</th>\n",
       "    </tr>\n",
       "  </thead>\n",
       "  <tbody>\n",
       "    <tr>\n",
       "      <th>0</th>\n",
       "      <td>0</td>\n",
       "      <td>10857</td>\n",
       "      <td>@ZubairSabirPTI  pls dont insult the word 'Molna'</td>\n",
       "      <td>anger</td>\n",
       "      <td>0.479</td>\n",
       "    </tr>\n",
       "    <tr>\n",
       "      <th>1</th>\n",
       "      <td>1</td>\n",
       "      <td>10858</td>\n",
       "      <td>@ArcticFantasy I would have almost took offens...</td>\n",
       "      <td>anger</td>\n",
       "      <td>0.458</td>\n",
       "    </tr>\n",
       "    <tr>\n",
       "      <th>2</th>\n",
       "      <td>2</td>\n",
       "      <td>10859</td>\n",
       "      <td>@IllinoisLoyalty that Rutgers game was an abom...</td>\n",
       "      <td>anger</td>\n",
       "      <td>0.562</td>\n",
       "    </tr>\n",
       "    <tr>\n",
       "      <th>3</th>\n",
       "      <td>3</td>\n",
       "      <td>10860</td>\n",
       "      <td>@CozanGaming that's what lisa asked before she...</td>\n",
       "      <td>anger</td>\n",
       "      <td>0.500</td>\n",
       "    </tr>\n",
       "    <tr>\n",
       "      <th>4</th>\n",
       "      <td>4</td>\n",
       "      <td>10861</td>\n",
       "      <td>Sometimes I get mad over something so minuscul...</td>\n",
       "      <td>anger</td>\n",
       "      <td>0.708</td>\n",
       "    </tr>\n",
       "    <tr>\n",
       "      <th>5</th>\n",
       "      <td>5</td>\n",
       "      <td>10862</td>\n",
       "      <td>Sometimes I get mad over something so minuscul...</td>\n",
       "      <td>anger</td>\n",
       "      <td>0.646</td>\n",
       "    </tr>\n",
       "    <tr>\n",
       "      <th>6</th>\n",
       "      <td>6</td>\n",
       "      <td>10863</td>\n",
       "      <td>I think @Sam_Canaday &amp;amp; @KYLEJDOWSON must a...</td>\n",
       "      <td>anger</td>\n",
       "      <td>0.250</td>\n",
       "    </tr>\n",
       "    <tr>\n",
       "      <th>7</th>\n",
       "      <td>7</td>\n",
       "      <td>10864</td>\n",
       "      <td>My eyes have been dilated. I hate the world ri...</td>\n",
       "      <td>anger</td>\n",
       "      <td>0.812</td>\n",
       "    </tr>\n",
       "    <tr>\n",
       "      <th>8</th>\n",
       "      <td>8</td>\n",
       "      <td>10865</td>\n",
       "      <td>@huwellwell One chosen by the CLP members! MP ...</td>\n",
       "      <td>anger</td>\n",
       "      <td>0.682</td>\n",
       "    </tr>\n",
       "    <tr>\n",
       "      <th>9</th>\n",
       "      <td>9</td>\n",
       "      <td>10866</td>\n",
       "      <td>@huwellwell One chosen by the CLP members! MP ...</td>\n",
       "      <td>anger</td>\n",
       "      <td>0.438</td>\n",
       "    </tr>\n",
       "  </tbody>\n",
       "</table>\n",
       "</div>"
      ],
      "text/plain": [
       "   index     id                                               text  label  \\\n",
       "0      0  10857  @ZubairSabirPTI  pls dont insult the word 'Molna'  anger   \n",
       "1      1  10858  @ArcticFantasy I would have almost took offens...  anger   \n",
       "2      2  10859  @IllinoisLoyalty that Rutgers game was an abom...  anger   \n",
       "3      3  10860  @CozanGaming that's what lisa asked before she...  anger   \n",
       "4      4  10861  Sometimes I get mad over something so minuscul...  anger   \n",
       "5      5  10862  Sometimes I get mad over something so minuscul...  anger   \n",
       "6      6  10863  I think @Sam_Canaday &amp; @KYLEJDOWSON must a...  anger   \n",
       "7      7  10864  My eyes have been dilated. I hate the world ri...  anger   \n",
       "8      8  10865  @huwellwell One chosen by the CLP members! MP ...  anger   \n",
       "9      9  10866  @huwellwell One chosen by the CLP members! MP ...  anger   \n",
       "\n",
       "   intensity  \n",
       "0      0.479  \n",
       "1      0.458  \n",
       "2      0.562  \n",
       "3      0.500  \n",
       "4      0.708  \n",
       "5      0.646  \n",
       "6      0.250  \n",
       "7      0.812  \n",
       "8      0.682  \n",
       "9      0.438  "
      ]
     },
     "execution_count": 29,
     "metadata": {},
     "output_type": "execute_result"
    }
   ],
   "source": [
    "cols = ['id','text','label','intensity']\n",
    "\n",
    "anger_dev = pd.read_csv('anger_dev.csv')\n",
    "fear_dev = pd.read_csv('fear_dev.csv')\n",
    "sad_dev = pd.read_csv('sadness_dev.csv')\n",
    "joy_dev = pd.read_csv('joy_dev.csv')\n",
    "\n",
    "frames_dev = [anger_dev, fear_dev, sad_dev, joy_dev]\n",
    "dev = pd.concat(frames_dev)\n",
    "dev.reset_index(inplace=True)\n",
    "dev.head(10)"
   ]
  },
  {
   "cell_type": "markdown",
   "metadata": {},
   "source": [
    "Kemudian, caritahu jumlah tweet yang ada dalam masing-masing label. "
   ]
  },
  {
   "cell_type": "code",
   "execution_count": 30,
   "metadata": {},
   "outputs": [
    {
     "data": {
      "text/plain": [
       "fear       110\n",
       "anger       84\n",
       "joy         79\n",
       "sadness     74\n",
       "Name: label, dtype: int64"
      ]
     },
     "execution_count": 30,
     "metadata": {},
     "output_type": "execute_result"
    }
   ],
   "source": [
    "dev.label.value_counts()"
   ]
  },
  {
   "cell_type": "markdown",
   "metadata": {},
   "source": [
    "Dapat diketahui bahwa terdapat terdapat 110 tweet dalam label fear, 84 dalam label anger, 79 dalam label joy, dan 74 dalam label sadness.\n",
    "\n",
    "Kemudian bersihkan development set menggunakan fungsi yang tadi telah kita gunakan untuk membersihkan training setnya."
   ]
  },
  {
   "cell_type": "code",
   "execution_count": 31,
   "metadata": {},
   "outputs": [
    {
     "name": "stdout",
     "output_type": "stream",
     "text": [
      "Cleaning and parsing the tweets...\n",
      "\n",
      "Done!\n"
     ]
    },
    {
     "data": {
      "text/html": [
       "<div>\n",
       "<style scoped>\n",
       "    .dataframe tbody tr th:only-of-type {\n",
       "        vertical-align: middle;\n",
       "    }\n",
       "\n",
       "    .dataframe tbody tr th {\n",
       "        vertical-align: top;\n",
       "    }\n",
       "\n",
       "    .dataframe thead th {\n",
       "        text-align: right;\n",
       "    }\n",
       "</style>\n",
       "<table border=\"1\" class=\"dataframe\">\n",
       "  <thead>\n",
       "    <tr style=\"text-align: right;\">\n",
       "      <th></th>\n",
       "      <th>index</th>\n",
       "      <th>id</th>\n",
       "      <th>text</th>\n",
       "      <th>label</th>\n",
       "      <th>intensity</th>\n",
       "    </tr>\n",
       "  </thead>\n",
       "  <tbody>\n",
       "    <tr>\n",
       "      <th>0</th>\n",
       "      <td>0</td>\n",
       "      <td>10857</td>\n",
       "      <td>pls dont insult word ' molna '</td>\n",
       "      <td>anger</td>\n",
       "      <td>0.479</td>\n",
       "    </tr>\n",
       "    <tr>\n",
       "      <th>1</th>\n",
       "      <td>1</td>\n",
       "      <td>10858</td>\n",
       "      <td>would almost took offense actually snapped</td>\n",
       "      <td>anger</td>\n",
       "      <td>0.458</td>\n",
       "    </tr>\n",
       "    <tr>\n",
       "      <th>2</th>\n",
       "      <td>2</td>\n",
       "      <td>10859</td>\n",
       "      <td>rutgers game abomination . affront god man . m...</td>\n",
       "      <td>anger</td>\n",
       "      <td>0.562</td>\n",
       "    </tr>\n",
       "    <tr>\n",
       "      <th>3</th>\n",
       "      <td>3</td>\n",
       "      <td>10860</td>\n",
       "      <td>' lisa asked started raging , ' call ?' heh</td>\n",
       "      <td>anger</td>\n",
       "      <td>0.500</td>\n",
       "    </tr>\n",
       "    <tr>\n",
       "      <th>4</th>\n",
       "      <td>4</td>\n",
       "      <td>10861</td>\n",
       "      <td>sometimes get mad something minuscule try ruin...</td>\n",
       "      <td>anger</td>\n",
       "      <td>0.708</td>\n",
       "    </tr>\n",
       "    <tr>\n",
       "      <th>5</th>\n",
       "      <td>5</td>\n",
       "      <td>10862</td>\n",
       "      <td>sometimes get mad something minuscule try ruin...</td>\n",
       "      <td>anger</td>\n",
       "      <td>0.646</td>\n",
       "    </tr>\n",
       "    <tr>\n",
       "      <th>6</th>\n",
       "      <td>6</td>\n",
       "      <td>10863</td>\n",
       "      <td>think &amp; amp ; must actually working like &amp; amp...</td>\n",
       "      <td>anger</td>\n",
       "      <td>0.250</td>\n",
       "    </tr>\n",
       "    <tr>\n",
       "      <th>7</th>\n",
       "      <td>7</td>\n",
       "      <td>10864</td>\n",
       "      <td>eyes dilated . hate world right rage thousand ...</td>\n",
       "      <td>anger</td>\n",
       "      <td>0.812</td>\n",
       "    </tr>\n",
       "    <tr>\n",
       "      <th>8</th>\n",
       "      <td>8</td>\n",
       "      <td>10865</td>\n",
       "      <td>one chosen clp members ! mp seats people dole ...</td>\n",
       "      <td>anger</td>\n",
       "      <td>0.682</td>\n",
       "    </tr>\n",
       "    <tr>\n",
       "      <th>9</th>\n",
       "      <td>9</td>\n",
       "      <td>10866</td>\n",
       "      <td>one chosen clp members ! mp seats people dole ...</td>\n",
       "      <td>anger</td>\n",
       "      <td>0.438</td>\n",
       "    </tr>\n",
       "  </tbody>\n",
       "</table>\n",
       "</div>"
      ],
      "text/plain": [
       "   index     id                                               text  label  \\\n",
       "0      0  10857                     pls dont insult word ' molna '  anger   \n",
       "1      1  10858         would almost took offense actually snapped  anger   \n",
       "2      2  10859  rutgers game abomination . affront god man . m...  anger   \n",
       "3      3  10860        ' lisa asked started raging , ' call ?' heh  anger   \n",
       "4      4  10861  sometimes get mad something minuscule try ruin...  anger   \n",
       "5      5  10862  sometimes get mad something minuscule try ruin...  anger   \n",
       "6      6  10863  think & amp ; must actually working like & amp...  anger   \n",
       "7      7  10864  eyes dilated . hate world right rage thousand ...  anger   \n",
       "8      8  10865  one chosen clp members ! mp seats people dole ...  anger   \n",
       "9      9  10866  one chosen clp members ! mp seats people dole ...  anger   \n",
       "\n",
       "   intensity  \n",
       "0      0.479  \n",
       "1      0.458  \n",
       "2      0.562  \n",
       "3      0.500  \n",
       "4      0.708  \n",
       "5      0.646  \n",
       "6      0.250  \n",
       "7      0.812  \n",
       "8      0.682  \n",
       "9      0.438  "
      ]
     },
     "execution_count": 31,
     "metadata": {},
     "output_type": "execute_result"
    }
   ],
   "source": [
    "clean_data_dev_list= tweet_cleaner(dev)\n",
    "dev.text = pd.DataFrame(clean_data_dev_list)\n",
    "dev.head(10)"
   ]
  },
  {
   "cell_type": "markdown",
   "metadata": {},
   "source": [
    "Setelah itu, buat modelnya menggunakan representasi BoW dan TF-IDF.\n",
    "\n",
    "- **Menggunakan BoW**\n",
    "\n",
    "Import library yang akan digunakan terlebih dahulu sebelum membuat model. Karena akan menggunakan Bag of Words, maka yang dijadikan X adalah X_BoW."
   ]
  },
  {
   "cell_type": "code",
   "execution_count": 32,
   "metadata": {},
   "outputs": [
    {
     "name": "stdout",
     "output_type": "stream",
     "text": [
      "Training Regressor with BoW representation\n"
     ]
    },
    {
     "data": {
      "text/plain": [
       "SVR(C=1.0, cache_size=200, coef0=0.0, degree=3, epsilon=0.1, gamma='scale',\n",
       "    kernel='linear', max_iter=-1, shrinking=True, tol=0.001, verbose=False)"
      ]
     },
     "execution_count": 32,
     "metadata": {},
     "output_type": "execute_result"
    }
   ],
   "source": [
    "from sklearn import svm\n",
    "\n",
    "Y_training = training.intensity\n",
    "model_BoW = svm.SVR(kernel='linear')\n",
    "print(\"Training Regressor with BoW representation\")\n",
    "model_BoW.fit(X_BoW, Y_training)"
   ]
  },
  {
   "cell_type": "markdown",
   "metadata": {},
   "source": [
    "Kemudian, print prediksi dari dataset development yang telah dimasukkan."
   ]
  },
  {
   "cell_type": "code",
   "execution_count": 33,
   "metadata": {},
   "outputs": [
    {
     "name": "stdout",
     "output_type": "stream",
     "text": [
      "[0.43059765 0.20427935 0.43997737 0.59690995 0.26300128 0.33489265\n",
      " 0.39463287 0.56837599 0.71330206 0.47494206 0.34863075 0.70546097\n",
      " 0.36181764 0.66349114 0.42513114 0.51132615 0.51132615 0.4461508\n",
      " 0.68896155 0.49919213 0.39928012 0.83266685 0.45938774 0.54988106\n",
      " 0.3427969  0.54302621 0.47483941 0.58849138 0.40638446 0.42089486\n",
      " 0.67124526 0.51669847 0.53308012 0.50601825 0.485223   0.53800119\n",
      " 0.50735227 0.50288067 0.49349145 0.44160265 0.46448218 0.46639462\n",
      " 0.47987714 0.43828023 0.42758797 0.49103859 0.52016616 0.2974713\n",
      " 0.83946759 0.69196896 0.45360896 0.50714544 0.40617433 0.77987996\n",
      " 0.65223792 0.42217035 0.40454781 0.25099467 0.54554777 0.63599539\n",
      " 0.40127792 0.44471112 0.5488143  0.42117225 0.41925852 0.43736797\n",
      " 0.35121851 0.58734314 0.58734314 0.73818973 0.63985671 0.56348187\n",
      " 0.75189398 0.58835467 0.4420261  0.45360896 0.50957059 0.53653113\n",
      " 0.57626103 0.44843306 0.47943464 0.43946285 0.37252783 0.55657191\n",
      " 0.21726885 0.45665154 0.48105579 0.51459636 0.55705824 0.55898651\n",
      " 0.52438948 0.41743984 0.572732   0.81345576 0.51441024 0.39415324\n",
      " 0.55079012 0.49663779 0.4486491  0.50955295 0.51343418 0.46624782\n",
      " 0.38913712 0.32186574 0.62266478 0.41771888 0.58544272 0.50995423\n",
      " 0.48127008 0.49288878 0.4865572  0.47005561 0.48165661 0.48165661\n",
      " 0.98080499 0.68175947 0.24909286 0.7431186  0.29018781 0.51694742\n",
      " 0.56978996 0.56063781 0.6175985  0.46343586 0.46566093 0.43692811\n",
      " 0.47597579 0.49849434 0.2154432  0.28767611 0.67128278 0.71649666\n",
      " 0.44231256 0.35910989 0.36309101 0.32598757 0.62878095 0.47991763\n",
      " 0.453018   0.45360896 0.45360896 0.53780285 0.68458506 0.4990936\n",
      " 0.42116266 0.53071967 0.41532648 0.58516326 0.43335327 0.53617024\n",
      " 0.46068175 0.4734089  0.53345091 0.52993014 0.12657693 0.62660024\n",
      " 0.60454743 0.57371894 0.4723575  0.46320535 0.44786994 0.68611465\n",
      " 0.98516018 0.59276173 0.46276112 0.46276112 0.46821496 0.47252707\n",
      " 0.45792108 0.46276112 0.45360896 0.6230559  0.41811    0.73031127\n",
      " 0.43126574 0.43471616 0.46212334 0.45360896 0.45360896 0.45663986\n",
      " 0.34992016 0.47179301 0.57496031 0.35261151 0.52054504 0.41724123\n",
      " 0.41531295 0.61214601 0.5350353  0.35643502 0.36558717 0.62993065\n",
      " 0.55943949 0.48232879 0.51459636 0.46232888 0.69035844 0.38640121\n",
      " 0.67567097 0.47215665 0.61305428 0.34664221 0.4486491  0.71659511\n",
      " 0.40053068 0.68532481 0.52860395 0.42468272 0.45360896 0.3948384\n",
      " 0.39928012 0.45360896 0.63791052 0.57961471 0.52667729 0.30126754\n",
      " 0.65486739 0.3427969  0.41607622 0.42338897 0.45360896 0.37756175\n",
      " 0.3581256  0.45360896 0.65622474 0.35234088 0.23758006 0.44780802\n",
      " 0.73349249 0.63788713 0.60063016 0.47119261 0.4792566  0.38127874\n",
      " 0.45278538 0.72371957 0.45360896 0.35162426 0.42313089 0.45790387\n",
      " 0.61118027 0.43128239 0.21197687 0.32364365 0.41021078 0.50591811\n",
      " 0.20940903 0.62789629 0.3740616  0.61730697 0.35802754 0.81951446\n",
      " 0.45422209 0.38498928 0.3839995  0.45360896 0.70129723 0.38470161\n",
      " 0.31319498 0.59041598 0.53026088 0.66136129 0.44181695 0.41485953\n",
      " 0.69856286 0.42961973 0.37252783 0.72505255 0.45544182 0.58752096\n",
      " 0.48124027 0.42621233 0.57778687 0.75470458 0.63178103 0.39279201\n",
      " 0.45360896 0.49932383 0.45764946 0.63341745 0.4240707  0.54980181\n",
      " 0.58499181 0.51857755 0.57144115 0.47142279 0.62814125 0.4486994\n",
      " 0.47597817 0.328782   0.45257957 0.51033509 0.45360896 0.38979978\n",
      " 0.83547771 0.57729399 0.67441722 0.49307969 0.48332121 0.44279539\n",
      " 0.43270662 0.54619241 0.33525228 0.48993645 0.39041184 0.53528048\n",
      " 0.328782   0.52077119 0.5169069  0.58304818 0.36201098 0.40227017\n",
      " 0.44712203 0.50246723 0.49525486 0.49738448 0.45764946 0.45360896\n",
      " 0.39504706 0.46292407 0.46530801 0.4425427  0.58607807 0.40916036\n",
      " 0.45516865 0.3579063  0.46937026 0.75777673 0.423574   0.66148396\n",
      " 0.45239635 0.50152849 0.32674078 0.38196955 0.60954808 0.55988965\n",
      " 0.40729383 0.41314011 0.75373403 0.52016152 0.42815636 0.54621217\n",
      " 0.54779363 0.55240398 0.34092601 0.33688551 0.46359877]\n"
     ]
    }
   ],
   "source": [
    "X_BoW_dev = vectorizer.transform(dev.text)\n",
    "Y_dev = dev.intensity\n",
    "y_pred = model_BoW.predict(X_BoW_dev)\n",
    "\n",
    "print(y_pred)"
   ]
  },
  {
   "cell_type": "markdown",
   "metadata": {},
   "source": [
    "Simpan prediksi ini dalam sebuah dataframe untuk memudahkan akses."
   ]
  },
  {
   "cell_type": "code",
   "execution_count": 34,
   "metadata": {},
   "outputs": [],
   "source": [
    "Y_dev_df = pd.DataFrame(Y_dev)\n",
    "X_BoW_dev_df = pd.DataFrame(X_BoW_dev.toarray())\n",
    "y_pred_df = pd.DataFrame(y_pred)\n",
    "\n",
    "dev_predict_BoW = dev.copy()\n",
    "dev_predict_BoW.drop(['intensity'], axis = 1, inplace =True)\n",
    "dev_predict_BoW['intensity'] = y_pred"
   ]
  },
  {
   "cell_type": "markdown",
   "metadata": {},
   "source": [
    "- **Menggunakan TF-IDF**\n",
    "\n",
    "Karena menggunakan model yang sama, maka cara yang digunakan juga hampir mirip. Yang menjadi perbedaannya, X yang digunakan adalah X_tfidf."
   ]
  },
  {
   "cell_type": "code",
   "execution_count": 35,
   "metadata": {},
   "outputs": [
    {
     "name": "stdout",
     "output_type": "stream",
     "text": [
      "Training Regressor with TF-IDF representation\n"
     ]
    },
    {
     "data": {
      "text/plain": [
       "SVR(C=1.0, cache_size=200, coef0=0.0, degree=3, epsilon=0.1, gamma='scale',\n",
       "    kernel='linear', max_iter=-1, shrinking=True, tol=0.001, verbose=False)"
      ]
     },
     "execution_count": 35,
     "metadata": {},
     "output_type": "execute_result"
    }
   ],
   "source": [
    "model_tfidf = svm.SVR(kernel='linear')\n",
    "print(\"Training Regressor with TF-IDF representation\")\n",
    "model_tfidf.fit(X_tfidf, Y_training)"
   ]
  },
  {
   "cell_type": "markdown",
   "metadata": {},
   "source": [
    "Print prediksi dataset development TF-IDF, bandingkan dengan prediksi Bag of Words."
   ]
  },
  {
   "cell_type": "code",
   "execution_count": 36,
   "metadata": {},
   "outputs": [
    {
     "name": "stdout",
     "output_type": "stream",
     "text": [
      "[0.38730877 0.24837682 0.4283547  0.57062654 0.55153056 0.58298208\n",
      " 0.39412128 0.57270883 0.69388521 0.48296929 0.39887996 0.61687611\n",
      " 0.40524179 0.55456732 0.42917306 0.51128595 0.51128595 0.44682317\n",
      " 0.62041479 0.46781    0.38515948 0.77575009 0.42106234 0.54248734\n",
      " 0.29183954 0.50902268 0.46353923 0.51133968 0.39954802 0.38984496\n",
      " 0.63355571 0.5332275  0.50535353 0.56302829 0.48407262 0.53149993\n",
      " 0.52636511 0.51638009 0.46979485 0.39623497 0.52173497 0.56918273\n",
      " 0.51790949 0.4462572  0.44301182 0.52471142 0.55783396 0.22683411\n",
      " 0.74492363 0.75415756 0.41951378 0.54886683 0.31033547 0.70879381\n",
      " 0.64403138 0.45633117 0.34625263 0.2657299  0.50080989 0.68392498\n",
      " 0.42816562 0.41680543 0.58172734 0.4936778  0.39217224 0.43224021\n",
      " 0.43293205 0.64736435 0.64736435 0.63860955 0.60283861 0.49746273\n",
      " 0.67841666 0.4650146  0.41324838 0.41951378 0.56385103 0.48492313\n",
      " 0.61456767 0.52443392 0.47912577 0.44400051 0.34245518 0.53354409\n",
      " 0.40029691 0.40412358 0.49274997 0.48410313 0.64734469 0.63739508\n",
      " 0.48666071 0.42995799 0.63721897 0.84061184 0.51200523 0.36347232\n",
      " 0.56272643 0.43366864 0.46735974 0.47112438 0.51258289 0.5229005\n",
      " 0.4735813  0.30799188 0.54494226 0.33693479 0.54084234 0.45606993\n",
      " 0.51769333 0.43215306 0.5260452  0.47657974 0.4861826  0.4861826\n",
      " 0.81216182 0.61614363 0.23059731 0.65132737 0.25626989 0.56307853\n",
      " 0.54058769 0.54058086 0.60932621 0.46125179 0.49199852 0.45001208\n",
      " 0.45611492 0.53096019 0.26881331 0.346521   0.65845745 0.62454505\n",
      " 0.41341271 0.41103571 0.39067628 0.36416084 0.70051784 0.43676588\n",
      " 0.44037788 0.41951378 0.41951378 0.53338136 0.73965778 0.55670785\n",
      " 0.51496522 0.53813604 0.36532112 0.6404462  0.41084835 0.59686387\n",
      " 0.4821151  0.48557827 0.58867465 0.59144705 0.139765   0.60278433\n",
      " 0.59506014 0.62879202 0.42489711 0.40709099 0.41167349 0.63092433\n",
      " 0.78465318 0.59281789 0.46599082 0.46599082 0.46810234 0.47489201\n",
      " 0.44706128 0.45370194 0.42620325 0.59264886 0.44519259 0.8501718\n",
      " 0.4241878  0.49259941 0.47408148 0.41951378 0.41951378 0.44829042\n",
      " 0.22497391 0.49627009 0.54795715 0.3588474  0.55671016 0.45779526\n",
      " 0.44426006 0.60341287 0.56066955 0.38334379 0.40689639 0.63190601\n",
      " 0.56778528 0.50878509 0.48410313 0.47536123 0.65157618 0.43045357\n",
      " 0.67855485 0.35286191 0.61657952 0.35493926 0.46735974 0.66724158\n",
      " 0.3058303  0.65250704 0.57509346 0.45288667 0.41951378 0.47877236\n",
      " 0.38515948 0.41951378 0.64047568 0.52880522 0.52952351 0.35181721\n",
      " 0.65118057 0.29183954 0.45137944 0.4386619  0.41951378 0.39992534\n",
      " 0.36952316 0.41951378 0.86971793 0.35375172 0.31707604 0.4546765\n",
      " 0.67973531 0.66200847 0.69054239 0.45613999 0.48038431 0.4158535\n",
      " 0.45306811 0.67045697 0.41951378 0.30429669 0.33796478 0.46319951\n",
      " 0.73169633 0.30544309 0.28980443 0.37159467 0.45664212 0.52370939\n",
      " 0.23631727 0.66027281 0.3381849  0.54249069 0.34068237 0.80277885\n",
      " 0.47281995 0.4332809  0.38469135 0.41951378 0.6398455  0.34543363\n",
      " 0.31214677 0.57334667 0.63218331 0.64400237 0.4418395  0.4231085\n",
      " 0.66693386 0.44454731 0.34245518 0.76418261 0.47684964 0.56257808\n",
      " 0.4947912  0.41172864 0.55362316 0.67890382 0.62742329 0.3199122\n",
      " 0.41951378 0.55017661 0.39877099 0.57721557 0.3984574  0.56814933\n",
      " 0.72944966 0.59323152 0.57810438 0.41137761 0.60977915 0.48598639\n",
      " 0.46222978 0.26257052 0.44582642 0.51390775 0.41951378 0.32185361\n",
      " 0.70162955 0.5928897  0.64661167 0.46922247 0.53127383 0.38660605\n",
      " 0.41356388 0.54524983 0.34101399 0.55951401 0.29667615 0.51693027\n",
      " 0.26257052 0.50098507 0.51667291 0.58672281 0.38123922 0.42410101\n",
      " 0.40319162 0.53290356 0.51221674 0.49829517 0.39877099 0.41951378\n",
      " 0.41511562 0.51722043 0.51201857 0.47785418 0.53568544 0.27570433\n",
      " 0.46001898 0.26515414 0.41952993 0.64723011 0.35941742 0.68125769\n",
      " 0.45129865 0.54176319 0.40383649 0.3170082  0.61722557 0.5802902\n",
      " 0.39859896 0.32237422 0.75124725 0.58254624 0.50034561 0.53236651\n",
      " 0.55852943 0.54678703 0.30117087 0.29518295 0.49134425]\n"
     ]
    }
   ],
   "source": [
    "X_tfidf_dev = vectorizer_tfidf.transform(dev.text)\n",
    "Y_tfidf_dev = dev.intensity\n",
    "y_tfidf_pred = model_tfidf.predict(X_tfidf_dev)\n",
    "\n",
    "print(y_tfidf_pred)"
   ]
  },
  {
   "cell_type": "markdown",
   "metadata": {},
   "source": [
    "Dari perbandingan antara model prediksi BoW dan TF-IDF, dapat disimpulkan bahwa nilai masing-masing prediksi berbeda, baik hanya ketepatan angka maupun berbeda sama sekali.\n",
    "\n",
    "Simpan prediksi ini dalam sebuah dataframe untuk mempermudah pengaksesan."
   ]
  },
  {
   "cell_type": "code",
   "execution_count": 37,
   "metadata": {},
   "outputs": [],
   "source": [
    "Y_tfidf_dev_df = pd.DataFrame(Y_tfidf_dev)\n",
    "X_tfidf_dev_df = pd.DataFrame(X_tfidf_dev.toarray())\n",
    "y_tfidf_pred_df = pd.DataFrame(y_tfidf_pred)\n",
    "\n",
    "dev_predict_tfidf = dev.copy()\n",
    "dev_predict_tfidf.drop(['intensity'], axis = 1, inplace =True) \n",
    "dev_predict_tfidf['intensity'] = y_tfidf_pred"
   ]
  },
  {
   "cell_type": "markdown",
   "metadata": {},
   "source": [
    "Setelah semua tersimpan dalam dataframe, baik BoW atau TF-IDF, simpan dalam bentuk file txt untuk nantinya digunakan ketika melakukan proses pengevaluasian. Sebelum itu, drop terlebih dahulu kolom yang tidak terpakai, yaitu kolom index dalam tiap-tiap dataframe."
   ]
  },
  {
   "cell_type": "code",
   "execution_count": 38,
   "metadata": {},
   "outputs": [
    {
     "data": {
      "text/html": [
       "<div>\n",
       "<style scoped>\n",
       "    .dataframe tbody tr th:only-of-type {\n",
       "        vertical-align: middle;\n",
       "    }\n",
       "\n",
       "    .dataframe tbody tr th {\n",
       "        vertical-align: top;\n",
       "    }\n",
       "\n",
       "    .dataframe thead th {\n",
       "        text-align: right;\n",
       "    }\n",
       "</style>\n",
       "<table border=\"1\" class=\"dataframe\">\n",
       "  <thead>\n",
       "    <tr style=\"text-align: right;\">\n",
       "      <th></th>\n",
       "      <th>text</th>\n",
       "      <th>label</th>\n",
       "      <th>intensity</th>\n",
       "    </tr>\n",
       "    <tr>\n",
       "      <th>id</th>\n",
       "      <th></th>\n",
       "      <th></th>\n",
       "      <th></th>\n",
       "    </tr>\n",
       "  </thead>\n",
       "  <tbody>\n",
       "    <tr>\n",
       "      <th>10857</th>\n",
       "      <td>pls dont insult word ' molna '</td>\n",
       "      <td>anger</td>\n",
       "      <td>0.479</td>\n",
       "    </tr>\n",
       "    <tr>\n",
       "      <th>10858</th>\n",
       "      <td>would almost took offense actually snapped</td>\n",
       "      <td>anger</td>\n",
       "      <td>0.458</td>\n",
       "    </tr>\n",
       "    <tr>\n",
       "      <th>10859</th>\n",
       "      <td>rutgers game abomination . affront god man . m...</td>\n",
       "      <td>anger</td>\n",
       "      <td>0.562</td>\n",
       "    </tr>\n",
       "    <tr>\n",
       "      <th>10860</th>\n",
       "      <td>' lisa asked started raging , ' call ?' heh</td>\n",
       "      <td>anger</td>\n",
       "      <td>0.500</td>\n",
       "    </tr>\n",
       "    <tr>\n",
       "      <th>10861</th>\n",
       "      <td>sometimes get mad something minuscule try ruin...</td>\n",
       "      <td>anger</td>\n",
       "      <td>0.708</td>\n",
       "    </tr>\n",
       "  </tbody>\n",
       "</table>\n",
       "</div>"
      ],
      "text/plain": [
       "                                                    text  label  intensity\n",
       "id                                                                        \n",
       "10857                     pls dont insult word ' molna '  anger      0.479\n",
       "10858         would almost took offense actually snapped  anger      0.458\n",
       "10859  rutgers game abomination . affront god man . m...  anger      0.562\n",
       "10860        ' lisa asked started raging , ' call ?' heh  anger      0.500\n",
       "10861  sometimes get mad something minuscule try ruin...  anger      0.708"
      ]
     },
     "execution_count": 38,
     "metadata": {},
     "output_type": "execute_result"
    }
   ],
   "source": [
    "dev = dev.drop(['index'], axis = 1)\n",
    "dev = dev.set_index('id')\n",
    "dev.head()"
   ]
  },
  {
   "cell_type": "code",
   "execution_count": 39,
   "metadata": {},
   "outputs": [
    {
     "data": {
      "text/html": [
       "<div>\n",
       "<style scoped>\n",
       "    .dataframe tbody tr th:only-of-type {\n",
       "        vertical-align: middle;\n",
       "    }\n",
       "\n",
       "    .dataframe tbody tr th {\n",
       "        vertical-align: top;\n",
       "    }\n",
       "\n",
       "    .dataframe thead th {\n",
       "        text-align: right;\n",
       "    }\n",
       "</style>\n",
       "<table border=\"1\" class=\"dataframe\">\n",
       "  <thead>\n",
       "    <tr style=\"text-align: right;\">\n",
       "      <th></th>\n",
       "      <th>text</th>\n",
       "      <th>label</th>\n",
       "      <th>intensity</th>\n",
       "    </tr>\n",
       "    <tr>\n",
       "      <th>id</th>\n",
       "      <th></th>\n",
       "      <th></th>\n",
       "      <th></th>\n",
       "    </tr>\n",
       "  </thead>\n",
       "  <tbody>\n",
       "    <tr>\n",
       "      <th>10857</th>\n",
       "      <td>pls dont insult word ' molna '</td>\n",
       "      <td>anger</td>\n",
       "      <td>0.430598</td>\n",
       "    </tr>\n",
       "    <tr>\n",
       "      <th>10858</th>\n",
       "      <td>would almost took offense actually snapped</td>\n",
       "      <td>anger</td>\n",
       "      <td>0.204279</td>\n",
       "    </tr>\n",
       "    <tr>\n",
       "      <th>10859</th>\n",
       "      <td>rutgers game abomination . affront god man . m...</td>\n",
       "      <td>anger</td>\n",
       "      <td>0.439977</td>\n",
       "    </tr>\n",
       "    <tr>\n",
       "      <th>10860</th>\n",
       "      <td>' lisa asked started raging , ' call ?' heh</td>\n",
       "      <td>anger</td>\n",
       "      <td>0.596910</td>\n",
       "    </tr>\n",
       "    <tr>\n",
       "      <th>10861</th>\n",
       "      <td>sometimes get mad something minuscule try ruin...</td>\n",
       "      <td>anger</td>\n",
       "      <td>0.263001</td>\n",
       "    </tr>\n",
       "  </tbody>\n",
       "</table>\n",
       "</div>"
      ],
      "text/plain": [
       "                                                    text  label  intensity\n",
       "id                                                                        \n",
       "10857                     pls dont insult word ' molna '  anger   0.430598\n",
       "10858         would almost took offense actually snapped  anger   0.204279\n",
       "10859  rutgers game abomination . affront god man . m...  anger   0.439977\n",
       "10860        ' lisa asked started raging , ' call ?' heh  anger   0.596910\n",
       "10861  sometimes get mad something minuscule try ruin...  anger   0.263001"
      ]
     },
     "execution_count": 39,
     "metadata": {},
     "output_type": "execute_result"
    }
   ],
   "source": [
    "dev_predict_BoW = dev_predict_BoW.drop(['index'], axis = 1)\n",
    "dev_predict_BoW = dev_predict_BoW.set_index('id')\n",
    "dev_predict_BoW.head()"
   ]
  },
  {
   "cell_type": "code",
   "execution_count": 40,
   "metadata": {},
   "outputs": [
    {
     "data": {
      "text/html": [
       "<div>\n",
       "<style scoped>\n",
       "    .dataframe tbody tr th:only-of-type {\n",
       "        vertical-align: middle;\n",
       "    }\n",
       "\n",
       "    .dataframe tbody tr th {\n",
       "        vertical-align: top;\n",
       "    }\n",
       "\n",
       "    .dataframe thead th {\n",
       "        text-align: right;\n",
       "    }\n",
       "</style>\n",
       "<table border=\"1\" class=\"dataframe\">\n",
       "  <thead>\n",
       "    <tr style=\"text-align: right;\">\n",
       "      <th></th>\n",
       "      <th>text</th>\n",
       "      <th>label</th>\n",
       "      <th>intensity</th>\n",
       "    </tr>\n",
       "    <tr>\n",
       "      <th>id</th>\n",
       "      <th></th>\n",
       "      <th></th>\n",
       "      <th></th>\n",
       "    </tr>\n",
       "  </thead>\n",
       "  <tbody>\n",
       "    <tr>\n",
       "      <th>10857</th>\n",
       "      <td>pls dont insult word ' molna '</td>\n",
       "      <td>anger</td>\n",
       "      <td>0.387309</td>\n",
       "    </tr>\n",
       "    <tr>\n",
       "      <th>10858</th>\n",
       "      <td>would almost took offense actually snapped</td>\n",
       "      <td>anger</td>\n",
       "      <td>0.248377</td>\n",
       "    </tr>\n",
       "    <tr>\n",
       "      <th>10859</th>\n",
       "      <td>rutgers game abomination . affront god man . m...</td>\n",
       "      <td>anger</td>\n",
       "      <td>0.428355</td>\n",
       "    </tr>\n",
       "    <tr>\n",
       "      <th>10860</th>\n",
       "      <td>' lisa asked started raging , ' call ?' heh</td>\n",
       "      <td>anger</td>\n",
       "      <td>0.570627</td>\n",
       "    </tr>\n",
       "    <tr>\n",
       "      <th>10861</th>\n",
       "      <td>sometimes get mad something minuscule try ruin...</td>\n",
       "      <td>anger</td>\n",
       "      <td>0.551531</td>\n",
       "    </tr>\n",
       "  </tbody>\n",
       "</table>\n",
       "</div>"
      ],
      "text/plain": [
       "                                                    text  label  intensity\n",
       "id                                                                        \n",
       "10857                     pls dont insult word ' molna '  anger   0.387309\n",
       "10858         would almost took offense actually snapped  anger   0.248377\n",
       "10859  rutgers game abomination . affront god man . m...  anger   0.428355\n",
       "10860        ' lisa asked started raging , ' call ?' heh  anger   0.570627\n",
       "10861  sometimes get mad something minuscule try ruin...  anger   0.551531"
      ]
     },
     "execution_count": 40,
     "metadata": {},
     "output_type": "execute_result"
    }
   ],
   "source": [
    "dev_predict_tfidf = dev_predict_tfidf.drop(['index'], axis = 1)\n",
    "dev_predict_tfidf = dev_predict_tfidf.set_index('id')\n",
    "dev_predict_tfidf.head()"
   ]
  },
  {
   "cell_type": "markdown",
   "metadata": {},
   "source": [
    "Kode di bawah ini merupakan kode pengkonversian dataframe ke bentuk file ekstensi txt."
   ]
  },
  {
   "cell_type": "code",
   "execution_count": 41,
   "metadata": {},
   "outputs": [],
   "source": [
    "dev_predict_BoW.to_csv('DevPredBoW.txt',sep = '\\t', header=None)\n",
    "dev_predict_tfidf.to_csv('DevPredTFIDF.txt',sep = '\\t', header=None)\n",
    "dev.to_csv('Dev.txt',sep = '\\t',header=None)"
   ]
  },
  {
   "cell_type": "markdown",
   "metadata": {},
   "source": [
    "Setelah melakukan training pada dataset development, notebook akan melakukan testing pada dataset texting.\n",
    "\n",
    "## 3. Testing\n",
    "\n",
    "Pertama, load terlebih dahulu dataset testing yang akan digunakan. Kemudian gabungkan menjadi sebuah dataframe test. Print untuk mengetahui isi dataframe."
   ]
  },
  {
   "cell_type": "code",
   "execution_count": 42,
   "metadata": {},
   "outputs": [
    {
     "data": {
      "text/html": [
       "<div>\n",
       "<style scoped>\n",
       "    .dataframe tbody tr th:only-of-type {\n",
       "        vertical-align: middle;\n",
       "    }\n",
       "\n",
       "    .dataframe tbody tr th {\n",
       "        vertical-align: top;\n",
       "    }\n",
       "\n",
       "    .dataframe thead th {\n",
       "        text-align: right;\n",
       "    }\n",
       "</style>\n",
       "<table border=\"1\" class=\"dataframe\">\n",
       "  <thead>\n",
       "    <tr style=\"text-align: right;\">\n",
       "      <th></th>\n",
       "      <th>index</th>\n",
       "      <th>id</th>\n",
       "      <th>text</th>\n",
       "      <th>label</th>\n",
       "      <th>intensity</th>\n",
       "    </tr>\n",
       "  </thead>\n",
       "  <tbody>\n",
       "    <tr>\n",
       "      <th>0</th>\n",
       "      <td>0</td>\n",
       "      <td>10941</td>\n",
       "      <td>At the point today where if someone says somet...</td>\n",
       "      <td>anger</td>\n",
       "      <td>0.319</td>\n",
       "    </tr>\n",
       "    <tr>\n",
       "      <th>1</th>\n",
       "      <td>1</td>\n",
       "      <td>10942</td>\n",
       "      <td>@CorningFootball  IT'S GAME DAY!!!!      T MIN...</td>\n",
       "      <td>anger</td>\n",
       "      <td>0.144</td>\n",
       "    </tr>\n",
       "    <tr>\n",
       "      <th>2</th>\n",
       "      <td>2</td>\n",
       "      <td>10943</td>\n",
       "      <td>This game has pissed me off more than any othe...</td>\n",
       "      <td>anger</td>\n",
       "      <td>0.898</td>\n",
       "    </tr>\n",
       "    <tr>\n",
       "      <th>3</th>\n",
       "      <td>3</td>\n",
       "      <td>10944</td>\n",
       "      <td>@spamvicious I've just found out it's Candice ...</td>\n",
       "      <td>anger</td>\n",
       "      <td>0.271</td>\n",
       "    </tr>\n",
       "    <tr>\n",
       "      <th>4</th>\n",
       "      <td>4</td>\n",
       "      <td>10945</td>\n",
       "      <td>@moocowward @mrsajhargreaves @Melly77 @GaryBar...</td>\n",
       "      <td>anger</td>\n",
       "      <td>0.646</td>\n",
       "    </tr>\n",
       "    <tr>\n",
       "      <th>5</th>\n",
       "      <td>5</td>\n",
       "      <td>10946</td>\n",
       "      <td>@moocowward @mrsajhargreaves @Melly77 @GaryBar...</td>\n",
       "      <td>anger</td>\n",
       "      <td>0.583</td>\n",
       "    </tr>\n",
       "    <tr>\n",
       "      <th>6</th>\n",
       "      <td>6</td>\n",
       "      <td>10947</td>\n",
       "      <td>wanna go home and focus up on this game . Don'...</td>\n",
       "      <td>anger</td>\n",
       "      <td>0.375</td>\n",
       "    </tr>\n",
       "    <tr>\n",
       "      <th>7</th>\n",
       "      <td>7</td>\n",
       "      <td>10948</td>\n",
       "      <td>@virginmedia I've been disconnected whilst on ...</td>\n",
       "      <td>anger</td>\n",
       "      <td>0.625</td>\n",
       "    </tr>\n",
       "    <tr>\n",
       "      <th>8</th>\n",
       "      <td>8</td>\n",
       "      <td>10949</td>\n",
       "      <td>@virginmedia I've been disconnected whilst on ...</td>\n",
       "      <td>anger</td>\n",
       "      <td>0.396</td>\n",
       "    </tr>\n",
       "    <tr>\n",
       "      <th>9</th>\n",
       "      <td>9</td>\n",
       "      <td>10950</td>\n",
       "      <td>I wanna see you smile I don't wanna see you ma...</td>\n",
       "      <td>anger</td>\n",
       "      <td>0.250</td>\n",
       "    </tr>\n",
       "  </tbody>\n",
       "</table>\n",
       "</div>"
      ],
      "text/plain": [
       "   index     id                                               text  label  \\\n",
       "0      0  10941  At the point today where if someone says somet...  anger   \n",
       "1      1  10942  @CorningFootball  IT'S GAME DAY!!!!      T MIN...  anger   \n",
       "2      2  10943  This game has pissed me off more than any othe...  anger   \n",
       "3      3  10944  @spamvicious I've just found out it's Candice ...  anger   \n",
       "4      4  10945  @moocowward @mrsajhargreaves @Melly77 @GaryBar...  anger   \n",
       "5      5  10946  @moocowward @mrsajhargreaves @Melly77 @GaryBar...  anger   \n",
       "6      6  10947  wanna go home and focus up on this game . Don'...  anger   \n",
       "7      7  10948  @virginmedia I've been disconnected whilst on ...  anger   \n",
       "8      8  10949  @virginmedia I've been disconnected whilst on ...  anger   \n",
       "9      9  10950  I wanna see you smile I don't wanna see you ma...  anger   \n",
       "\n",
       "   intensity  \n",
       "0      0.319  \n",
       "1      0.144  \n",
       "2      0.898  \n",
       "3      0.271  \n",
       "4      0.646  \n",
       "5      0.583  \n",
       "6      0.375  \n",
       "7      0.625  \n",
       "8      0.396  \n",
       "9      0.250  "
      ]
     },
     "execution_count": 42,
     "metadata": {},
     "output_type": "execute_result"
    }
   ],
   "source": [
    "cols = ['id','text','label','intensity']\n",
    "\n",
    "anger_test = pd.read_csv('anger_test.csv')\n",
    "fear_test = pd.read_csv('fear_test.csv')\n",
    "sad_test = pd.read_csv('sadness_test.csv')\n",
    "joy_test = pd.read_csv('joy_test.csv')\n",
    "\n",
    "frames_test = [anger_test, fear_test, sad_test, joy_test]\n",
    "test = pd.concat(frames_test)\n",
    "test.reset_index(inplace=True)\n",
    "test.head(10)"
   ]
  },
  {
   "cell_type": "markdown",
   "metadata": {},
   "source": [
    "Lalu caritahu jumlah tweet berdasarkan labelnya."
   ]
  },
  {
   "cell_type": "code",
   "execution_count": 43,
   "metadata": {},
   "outputs": [
    {
     "data": {
      "text/plain": [
       "fear       995\n",
       "anger      760\n",
       "joy        714\n",
       "sadness    673\n",
       "Name: label, dtype: int64"
      ]
     },
     "execution_count": 43,
     "metadata": {},
     "output_type": "execute_result"
    }
   ],
   "source": [
    "test.label.value_counts()"
   ]
  },
  {
   "cell_type": "markdown",
   "metadata": {},
   "source": [
    "Dapat diketahui bahwa terdapat terdapat 995 tweet dalam label fear, 760 dalam label anger, 714 dalam label joy, dan 673 dalam label sadness.\n",
    "\n",
    "Kemudian bersihkan testing set menggunakan fungsi yang tadi telah kita gunakan untuk membersihkan training set dan development set."
   ]
  },
  {
   "cell_type": "code",
   "execution_count": 44,
   "metadata": {},
   "outputs": [
    {
     "name": "stdout",
     "output_type": "stream",
     "text": [
      "Cleaning and parsing the tweets...\n",
      "\n",
      "Done!\n"
     ]
    },
    {
     "data": {
      "text/html": [
       "<div>\n",
       "<style scoped>\n",
       "    .dataframe tbody tr th:only-of-type {\n",
       "        vertical-align: middle;\n",
       "    }\n",
       "\n",
       "    .dataframe tbody tr th {\n",
       "        vertical-align: top;\n",
       "    }\n",
       "\n",
       "    .dataframe thead th {\n",
       "        text-align: right;\n",
       "    }\n",
       "</style>\n",
       "<table border=\"1\" class=\"dataframe\">\n",
       "  <thead>\n",
       "    <tr style=\"text-align: right;\">\n",
       "      <th></th>\n",
       "      <th>index</th>\n",
       "      <th>id</th>\n",
       "      <th>text</th>\n",
       "      <th>label</th>\n",
       "      <th>intensity</th>\n",
       "    </tr>\n",
       "  </thead>\n",
       "  <tbody>\n",
       "    <tr>\n",
       "      <th>0</th>\n",
       "      <td>0</td>\n",
       "      <td>10941</td>\n",
       "      <td>point today someone says something remotely ki...</td>\n",
       "      <td>anger</td>\n",
       "      <td>0.319</td>\n",
       "    </tr>\n",
       "    <tr>\n",
       "      <th>1</th>\n",
       "      <td>1</td>\n",
       "      <td>10942</td>\n",
       "      <td>' game day !!!! minus : # relentless</td>\n",
       "      <td>anger</td>\n",
       "      <td>0.144</td>\n",
       "    </tr>\n",
       "    <tr>\n",
       "      <th>2</th>\n",
       "      <td>2</td>\n",
       "      <td>10943</td>\n",
       "      <td>game pissed game year . blood boiling ! time t...</td>\n",
       "      <td>anger</td>\n",
       "      <td>0.898</td>\n",
       "    </tr>\n",
       "    <tr>\n",
       "      <th>3</th>\n",
       "      <td>3</td>\n",
       "      <td>10944</td>\n",
       "      <td>' found ' candice candace . pout likes 😍</td>\n",
       "      <td>anger</td>\n",
       "      <td>0.271</td>\n",
       "    </tr>\n",
       "    <tr>\n",
       "      <th>4</th>\n",
       "      <td>4</td>\n",
       "      <td>10945</td>\n",
       "      <td>' come mum ' th k tweets 🙈 # soreloser</td>\n",
       "      <td>anger</td>\n",
       "      <td>0.646</td>\n",
       "    </tr>\n",
       "    <tr>\n",
       "      <th>5</th>\n",
       "      <td>5</td>\n",
       "      <td>10946</td>\n",
       "      <td>' come mum ' th k tweets 🙈 # bitter # soreloser</td>\n",
       "      <td>anger</td>\n",
       "      <td>0.583</td>\n",
       "    </tr>\n",
       "    <tr>\n",
       "      <th>6</th>\n",
       "      <td>6</td>\n",
       "      <td>10947</td>\n",
       "      <td>wanna go home focus game . ' wanna rage</td>\n",
       "      <td>anger</td>\n",
       "      <td>0.375</td>\n",
       "    </tr>\n",
       "    <tr>\n",
       "      <th>7</th>\n",
       "      <td>7</td>\n",
       "      <td>10948</td>\n",
       "      <td>' disconnected whilst holiday 😤 ' move house s...</td>\n",
       "      <td>anger</td>\n",
       "      <td>0.625</td>\n",
       "    </tr>\n",
       "    <tr>\n",
       "      <th>8</th>\n",
       "      <td>8</td>\n",
       "      <td>10949</td>\n",
       "      <td>' disconnected whilst holiday 😤 ' move house s...</td>\n",
       "      <td>anger</td>\n",
       "      <td>0.396</td>\n",
       "    </tr>\n",
       "    <tr>\n",
       "      <th>9</th>\n",
       "      <td>9</td>\n",
       "      <td>10950</td>\n",
       "      <td>wanna see smile ' wanna see make frown</td>\n",
       "      <td>anger</td>\n",
       "      <td>0.250</td>\n",
       "    </tr>\n",
       "  </tbody>\n",
       "</table>\n",
       "</div>"
      ],
      "text/plain": [
       "   index     id                                               text  label  \\\n",
       "0      0  10941  point today someone says something remotely ki...  anger   \n",
       "1      1  10942               ' game day !!!! minus : # relentless  anger   \n",
       "2      2  10943  game pissed game year . blood boiling ! time t...  anger   \n",
       "3      3  10944           ' found ' candice candace . pout likes 😍  anger   \n",
       "4      4  10945             ' come mum ' th k tweets 🙈 # soreloser  anger   \n",
       "5      5  10946    ' come mum ' th k tweets 🙈 # bitter # soreloser  anger   \n",
       "6      6  10947            wanna go home focus game . ' wanna rage  anger   \n",
       "7      7  10948  ' disconnected whilst holiday 😤 ' move house s...  anger   \n",
       "8      8  10949  ' disconnected whilst holiday 😤 ' move house s...  anger   \n",
       "9      9  10950             wanna see smile ' wanna see make frown  anger   \n",
       "\n",
       "   intensity  \n",
       "0      0.319  \n",
       "1      0.144  \n",
       "2      0.898  \n",
       "3      0.271  \n",
       "4      0.646  \n",
       "5      0.583  \n",
       "6      0.375  \n",
       "7      0.625  \n",
       "8      0.396  \n",
       "9      0.250  "
      ]
     },
     "execution_count": 44,
     "metadata": {},
     "output_type": "execute_result"
    }
   ],
   "source": [
    "clean_data_test_list= tweet_cleaner(test)\n",
    "test.text = pd.DataFrame(clean_data_test_list)\n",
    "test.head(10)"
   ]
  },
  {
   "cell_type": "markdown",
   "metadata": {},
   "source": [
    "Setelah itu, kembali buat modelnya menggunakan representasi BoW dan TF-IDF.\n",
    "\n",
    "- **Menggunakan BoW**\n",
    "\n",
    "Buat model prediksinya terlebih dahulu."
   ]
  },
  {
   "cell_type": "code",
   "execution_count": 45,
   "metadata": {},
   "outputs": [
    {
     "name": "stdout",
     "output_type": "stream",
     "text": [
      "Testing Regressor with BoW representation\n"
     ]
    },
    {
     "data": {
      "text/plain": [
       "SVR(C=1.0, cache_size=200, coef0=0.0, degree=3, epsilon=0.1, gamma='scale',\n",
       "    kernel='linear', max_iter=-1, shrinking=True, tol=0.001, verbose=False)"
      ]
     },
     "execution_count": 45,
     "metadata": {},
     "output_type": "execute_result"
    }
   ],
   "source": [
    "test_BoW = svm.SVR(kernel='linear')\n",
    "print(\"Testing Regressor with BoW representation\")\n",
    "test_BoW.fit(X_BoW, Y_training)"
   ]
  },
  {
   "cell_type": "code",
   "execution_count": 46,
   "metadata": {},
   "outputs": [
    {
     "name": "stdout",
     "output_type": "stream",
     "text": [
      "[0.40435607 0.3485953  0.69705899 ... 0.74856383 0.41384122 0.45559003]\n"
     ]
    }
   ],
   "source": [
    "X_BoW_test = vectorizer.transform(test.text)\n",
    "Y_test = test.intensity\n",
    "y_testing = test_BoW.predict(X_BoW_test)\n",
    "\n",
    "print(y_testing)"
   ]
  },
  {
   "cell_type": "markdown",
   "metadata": {},
   "source": [
    "Dapat ditinjau di sini bahwa jumlah entry dalam dataset terlalu besar untuk diprint secara keseluruhan dalam array, sehingga terdapat elipsis di tengah array. Kemudian simpan prediksi dalam dataframe."
   ]
  },
  {
   "cell_type": "code",
   "execution_count": 47,
   "metadata": {},
   "outputs": [],
   "source": [
    "Y_test_df = pd.DataFrame(Y_test)\n",
    "X_BoW_test_df = pd.DataFrame(X_BoW_test.toarray())\n",
    "y_testing_df = pd.DataFrame(y_testing)\n",
    "\n",
    "test_predict_BoW = test.copy()\n",
    "test_predict_BoW.drop(['intensity'], axis = 1, inplace =True)\n",
    "test_predict_BoW['intensity'] = y_testing"
   ]
  },
  {
   "cell_type": "markdown",
   "metadata": {},
   "source": [
    "- **Menggunakan TF-IDF**\n",
    "\n",
    "Buat model prediksinya terlebih dahulu."
   ]
  },
  {
   "cell_type": "code",
   "execution_count": 48,
   "metadata": {},
   "outputs": [
    {
     "name": "stdout",
     "output_type": "stream",
     "text": [
      "Testing Regressor with TF-IDF representation\n"
     ]
    },
    {
     "data": {
      "text/plain": [
       "SVR(C=1.0, cache_size=200, coef0=0.0, degree=3, epsilon=0.1, gamma='scale',\n",
       "    kernel='linear', max_iter=-1, shrinking=True, tol=0.001, verbose=False)"
      ]
     },
     "execution_count": 48,
     "metadata": {},
     "output_type": "execute_result"
    }
   ],
   "source": [
    "test_tfidf = svm.SVR(kernel='linear')\n",
    "print(\"Testing Regressor with TF-IDF representation\")\n",
    "test_tfidf.fit(X_tfidf, Y_training)"
   ]
  },
  {
   "cell_type": "code",
   "execution_count": 49,
   "metadata": {},
   "outputs": [
    {
     "name": "stdout",
     "output_type": "stream",
     "text": [
      "[0.54240043 0.35376752 0.59545008 ... 0.71202411 0.4835967  0.46684127]\n"
     ]
    }
   ],
   "source": [
    "X_tfidf_test = vectorizer_tfidf.transform(test.text)\n",
    "Y_tfidf_test = test.intensity\n",
    "y_tfidf_testing = model_tfidf.predict(X_tfidf_test)\n",
    "\n",
    "print(y_tfidf_testing)"
   ]
  },
  {
   "cell_type": "markdown",
   "metadata": {},
   "source": [
    "Simpan prediksi dalam bentuk dataframe."
   ]
  },
  {
   "cell_type": "code",
   "execution_count": 50,
   "metadata": {},
   "outputs": [],
   "source": [
    "Y_tfidf_test_df = pd.DataFrame(Y_tfidf_test)\n",
    "X_tfidf_test_df = pd.DataFrame(X_tfidf_test.toarray())\n",
    "y_tfidf_testing_df = pd.DataFrame(y_tfidf_testing)\n",
    "\n",
    "test_predict_tfidf = test.copy()\n",
    "test_predict_tfidf.drop(['intensity'], axis = 1, inplace =True)\n",
    "test_predict_tfidf['intensity'] = y_tfidf_testing"
   ]
  },
  {
   "cell_type": "markdown",
   "metadata": {},
   "source": [
    "Setelah semua prediksi tersimpan dalam dataframe, baik BoW atau TF-IDF, simpan dalam bentuk file txt untuk nantinya digunakan ketika melakukan proses pengevaluasian. Sebelum itu, drop terlebih dahulu kolom yang tidak terpakai, yaitu kolom index dalam tiap-tiap dataframe."
   ]
  },
  {
   "cell_type": "code",
   "execution_count": 51,
   "metadata": {},
   "outputs": [
    {
     "data": {
      "text/html": [
       "<div>\n",
       "<style scoped>\n",
       "    .dataframe tbody tr th:only-of-type {\n",
       "        vertical-align: middle;\n",
       "    }\n",
       "\n",
       "    .dataframe tbody tr th {\n",
       "        vertical-align: top;\n",
       "    }\n",
       "\n",
       "    .dataframe thead th {\n",
       "        text-align: right;\n",
       "    }\n",
       "</style>\n",
       "<table border=\"1\" class=\"dataframe\">\n",
       "  <thead>\n",
       "    <tr style=\"text-align: right;\">\n",
       "      <th></th>\n",
       "      <th>text</th>\n",
       "      <th>label</th>\n",
       "      <th>intensity</th>\n",
       "    </tr>\n",
       "    <tr>\n",
       "      <th>id</th>\n",
       "      <th></th>\n",
       "      <th></th>\n",
       "      <th></th>\n",
       "    </tr>\n",
       "  </thead>\n",
       "  <tbody>\n",
       "    <tr>\n",
       "      <th>10941</th>\n",
       "      <td>point today someone says something remotely ki...</td>\n",
       "      <td>anger</td>\n",
       "      <td>0.319</td>\n",
       "    </tr>\n",
       "    <tr>\n",
       "      <th>10942</th>\n",
       "      <td>' game day !!!! minus : # relentless</td>\n",
       "      <td>anger</td>\n",
       "      <td>0.144</td>\n",
       "    </tr>\n",
       "    <tr>\n",
       "      <th>10943</th>\n",
       "      <td>game pissed game year . blood boiling ! time t...</td>\n",
       "      <td>anger</td>\n",
       "      <td>0.898</td>\n",
       "    </tr>\n",
       "    <tr>\n",
       "      <th>10944</th>\n",
       "      <td>' found ' candice candace . pout likes 😍</td>\n",
       "      <td>anger</td>\n",
       "      <td>0.271</td>\n",
       "    </tr>\n",
       "    <tr>\n",
       "      <th>10945</th>\n",
       "      <td>' come mum ' th k tweets 🙈 # soreloser</td>\n",
       "      <td>anger</td>\n",
       "      <td>0.646</td>\n",
       "    </tr>\n",
       "  </tbody>\n",
       "</table>\n",
       "</div>"
      ],
      "text/plain": [
       "                                                    text  label  intensity\n",
       "id                                                                        \n",
       "10941  point today someone says something remotely ki...  anger      0.319\n",
       "10942               ' game day !!!! minus : # relentless  anger      0.144\n",
       "10943  game pissed game year . blood boiling ! time t...  anger      0.898\n",
       "10944           ' found ' candice candace . pout likes 😍  anger      0.271\n",
       "10945             ' come mum ' th k tweets 🙈 # soreloser  anger      0.646"
      ]
     },
     "execution_count": 51,
     "metadata": {},
     "output_type": "execute_result"
    }
   ],
   "source": [
    "test = test.drop(['index'], axis = 1)\n",
    "test = test.set_index('id')\n",
    "test.head()"
   ]
  },
  {
   "cell_type": "code",
   "execution_count": 52,
   "metadata": {},
   "outputs": [
    {
     "data": {
      "text/html": [
       "<div>\n",
       "<style scoped>\n",
       "    .dataframe tbody tr th:only-of-type {\n",
       "        vertical-align: middle;\n",
       "    }\n",
       "\n",
       "    .dataframe tbody tr th {\n",
       "        vertical-align: top;\n",
       "    }\n",
       "\n",
       "    .dataframe thead th {\n",
       "        text-align: right;\n",
       "    }\n",
       "</style>\n",
       "<table border=\"1\" class=\"dataframe\">\n",
       "  <thead>\n",
       "    <tr style=\"text-align: right;\">\n",
       "      <th></th>\n",
       "      <th>text</th>\n",
       "      <th>label</th>\n",
       "      <th>intensity</th>\n",
       "    </tr>\n",
       "    <tr>\n",
       "      <th>id</th>\n",
       "      <th></th>\n",
       "      <th></th>\n",
       "      <th></th>\n",
       "    </tr>\n",
       "  </thead>\n",
       "  <tbody>\n",
       "    <tr>\n",
       "      <th>10941</th>\n",
       "      <td>point today someone says something remotely ki...</td>\n",
       "      <td>anger</td>\n",
       "      <td>0.404356</td>\n",
       "    </tr>\n",
       "    <tr>\n",
       "      <th>10942</th>\n",
       "      <td>' game day !!!! minus : # relentless</td>\n",
       "      <td>anger</td>\n",
       "      <td>0.348595</td>\n",
       "    </tr>\n",
       "    <tr>\n",
       "      <th>10943</th>\n",
       "      <td>game pissed game year . blood boiling ! time t...</td>\n",
       "      <td>anger</td>\n",
       "      <td>0.697059</td>\n",
       "    </tr>\n",
       "    <tr>\n",
       "      <th>10944</th>\n",
       "      <td>' found ' candice candace . pout likes 😍</td>\n",
       "      <td>anger</td>\n",
       "      <td>0.477347</td>\n",
       "    </tr>\n",
       "    <tr>\n",
       "      <th>10945</th>\n",
       "      <td>' come mum ' th k tweets 🙈 # soreloser</td>\n",
       "      <td>anger</td>\n",
       "      <td>0.503912</td>\n",
       "    </tr>\n",
       "  </tbody>\n",
       "</table>\n",
       "</div>"
      ],
      "text/plain": [
       "                                                    text  label  intensity\n",
       "id                                                                        \n",
       "10941  point today someone says something remotely ki...  anger   0.404356\n",
       "10942               ' game day !!!! minus : # relentless  anger   0.348595\n",
       "10943  game pissed game year . blood boiling ! time t...  anger   0.697059\n",
       "10944           ' found ' candice candace . pout likes 😍  anger   0.477347\n",
       "10945             ' come mum ' th k tweets 🙈 # soreloser  anger   0.503912"
      ]
     },
     "execution_count": 52,
     "metadata": {},
     "output_type": "execute_result"
    }
   ],
   "source": [
    "test_predict_BoW = test_predict_BoW.drop(['index'], axis = 1)\n",
    "test_predict_BoW = test_predict_BoW.set_index('id')\n",
    "test_predict_BoW.head()"
   ]
  },
  {
   "cell_type": "code",
   "execution_count": 53,
   "metadata": {},
   "outputs": [
    {
     "data": {
      "text/html": [
       "<div>\n",
       "<style scoped>\n",
       "    .dataframe tbody tr th:only-of-type {\n",
       "        vertical-align: middle;\n",
       "    }\n",
       "\n",
       "    .dataframe tbody tr th {\n",
       "        vertical-align: top;\n",
       "    }\n",
       "\n",
       "    .dataframe thead th {\n",
       "        text-align: right;\n",
       "    }\n",
       "</style>\n",
       "<table border=\"1\" class=\"dataframe\">\n",
       "  <thead>\n",
       "    <tr style=\"text-align: right;\">\n",
       "      <th></th>\n",
       "      <th>text</th>\n",
       "      <th>label</th>\n",
       "      <th>intensity</th>\n",
       "    </tr>\n",
       "    <tr>\n",
       "      <th>id</th>\n",
       "      <th></th>\n",
       "      <th></th>\n",
       "      <th></th>\n",
       "    </tr>\n",
       "  </thead>\n",
       "  <tbody>\n",
       "    <tr>\n",
       "      <th>10941</th>\n",
       "      <td>point today someone says something remotely ki...</td>\n",
       "      <td>anger</td>\n",
       "      <td>0.542400</td>\n",
       "    </tr>\n",
       "    <tr>\n",
       "      <th>10942</th>\n",
       "      <td>' game day !!!! minus : # relentless</td>\n",
       "      <td>anger</td>\n",
       "      <td>0.353768</td>\n",
       "    </tr>\n",
       "    <tr>\n",
       "      <th>10943</th>\n",
       "      <td>game pissed game year . blood boiling ! time t...</td>\n",
       "      <td>anger</td>\n",
       "      <td>0.595450</td>\n",
       "    </tr>\n",
       "    <tr>\n",
       "      <th>10944</th>\n",
       "      <td>' found ' candice candace . pout likes 😍</td>\n",
       "      <td>anger</td>\n",
       "      <td>0.460657</td>\n",
       "    </tr>\n",
       "    <tr>\n",
       "      <th>10945</th>\n",
       "      <td>' come mum ' th k tweets 🙈 # soreloser</td>\n",
       "      <td>anger</td>\n",
       "      <td>0.555369</td>\n",
       "    </tr>\n",
       "  </tbody>\n",
       "</table>\n",
       "</div>"
      ],
      "text/plain": [
       "                                                    text  label  intensity\n",
       "id                                                                        \n",
       "10941  point today someone says something remotely ki...  anger   0.542400\n",
       "10942               ' game day !!!! minus : # relentless  anger   0.353768\n",
       "10943  game pissed game year . blood boiling ! time t...  anger   0.595450\n",
       "10944           ' found ' candice candace . pout likes 😍  anger   0.460657\n",
       "10945             ' come mum ' th k tweets 🙈 # soreloser  anger   0.555369"
      ]
     },
     "execution_count": 53,
     "metadata": {},
     "output_type": "execute_result"
    }
   ],
   "source": [
    "test_predict_tfidf = test_predict_tfidf.drop(['index'], axis = 1)\n",
    "test_predict_tfidf = test_predict_tfidf.set_index('id')\n",
    "test_predict_tfidf.head()"
   ]
  },
  {
   "cell_type": "markdown",
   "metadata": {},
   "source": [
    "Prediksi yang telah disimpan di dataframe kemudian disimpan dalam bentuk file ekstensi txt untuk memudahkan evaluasi."
   ]
  },
  {
   "cell_type": "code",
   "execution_count": 54,
   "metadata": {},
   "outputs": [],
   "source": [
    "test_predict_BoW.to_csv('TestPredBoW.txt',sep = '\\t', header=None)\n",
    "test_predict_tfidf.to_csv('TestPredTFIDF.txt',sep = '\\t', header=None)\n",
    "test.to_csv('Test.txt',sep = '\\t',header=None)"
   ]
  },
  {
   "cell_type": "markdown",
   "metadata": {},
   "source": [
    "## 4. Evaluation\n",
    "\n",
    "Dalam notebook ini, dataset akan dievaluasi menggunakan model evaluasi yang terdapat pada tautan https://github.com/felipebravom/EmoInt.\n",
    "\n",
    "### Training/Development\n",
    "\n",
    "Dalam sub bab ini, akan dievaluasi model yang telah dibuat untuk memprediksi intensitas emosi seluruh tweet dalam development set.\n",
    "\n",
    "- **Menggunakan BoW**\n",
    "\n",
    "Berikut adalah evaluasi menggunakan metode korelasi Pearson dan Spearman dari model SVR yang menggunakan Bag of Words."
   ]
  },
  {
   "cell_type": "code",
   "execution_count": 55,
   "metadata": {},
   "outputs": [
    {
     "name": "stdout",
     "output_type": "stream",
     "text": [
      "Pearson correlation between  DevPredBoW.txt  and  Dev.txt :\t 0.4035753110563416\n",
      "Spearman correlation between  DevPredBoW.txt  and  Dev.txt :\t 0.3750886921964293\n",
      "Pearson correlation for gold scores in range 0.5-1 between  DevPredBoW.txt  and  Dev.txt :\t 0.36893617209077684\n",
      "Spearman correlation for gold scores in range 0.5-1 between  DevPredBoW.txt  and  Dev.txt :\t 0.3519349652159768\n",
      "\n",
      "Average Pearson correlation:\t 0.4035753110563416\n",
      "Average Spearman correlation:\t 0.3750886921964293\n",
      "Average Pearson correlation for gold scores in range 0.5-1:\t 0.36893617209077684\n",
      "Average Spearman correlationfor gold scores in range 0.5-1:\t 0.3519349652159768\n"
     ]
    }
   ],
   "source": [
    "!python evaluate.py 1 DevPredBoW.txt Dev.txt"
   ]
  },
  {
   "cell_type": "markdown",
   "metadata": {},
   "source": [
    "Ditinjau dari outputnya, dapat dilihat bahwa model SVR BoW dengan dataset Development lebih tinggi nilai korelasi Pearsonnya dibanding Spearman. Meski begitu, nilai korelasi keduanya tidak ada yang lebih dari 0,5, sehingga dapat disimpulkan bahwa model ini masih merupakan model yang memiliki korelasi rendah antara prediksi dan data aslinya.\n",
    "\n",
    "- **Menggunakan TF-IDF**\n",
    "\n",
    "Berikut adalah evaluasi menggunakan metode korelasi Pearson dan Spearman dari model SVR yang menggunakan TF-IDF."
   ]
  },
  {
   "cell_type": "code",
   "execution_count": 56,
   "metadata": {},
   "outputs": [
    {
     "name": "stdout",
     "output_type": "stream",
     "text": [
      "Pearson correlation between  DevPredTFIDF.txt  and  Dev.txt :\t 0.4303576219096421\n",
      "Spearman correlation between  DevPredTFIDF.txt  and  Dev.txt :\t 0.4011524051039543\n",
      "Pearson correlation for gold scores in range 0.5-1 between  DevPredTFIDF.txt  and  Dev.txt :\t 0.397467923653523\n",
      "Spearman correlation for gold scores in range 0.5-1 between  DevPredTFIDF.txt  and  Dev.txt :\t 0.39311363637648505\n",
      "\n",
      "Average Pearson correlation:\t 0.4303576219096421\n",
      "Average Spearman correlation:\t 0.4011524051039543\n",
      "Average Pearson correlation for gold scores in range 0.5-1:\t 0.397467923653523\n",
      "Average Spearman correlationfor gold scores in range 0.5-1:\t 0.39311363637648505\n"
     ]
    }
   ],
   "source": [
    "!python evaluate.py 1 DevPredTFIDF.txt Dev.txt"
   ]
  },
  {
   "cell_type": "markdown",
   "metadata": {},
   "source": [
    "Ditinjau dari outputnya, dapat dilihat bahwa model SVR TF-IDF dengan dataset Development lebih tinggi nilai korelasi Pearsonnya dibanding Spearman. Selain itu, nilai korelasinya juga lebih tinggi dibanding model SVR BoW. Meski begitu karena nilai korelasi TF-IDF tidak ada yang lebih dari 0,5, dapat disimpulkan bahwa model ini masih merupakan model yang memiliki korelasi rendah antara prediksi dan data aslinya."
   ]
  },
  {
   "cell_type": "markdown",
   "metadata": {},
   "source": [
    "### Testing\n",
    "\n",
    "Dalam sub bab ini, akan dievaluasi model yang telah dibuat untuk memprediksi intensitas emosi seluruh tweet dalam testing set.\n",
    "\n",
    "- **Menggunakan BoW**\n",
    "\n",
    "Berikut adalah evaluasi menggunakan metode korelasi Pearson dan Spearman dari model SVR yang menggunakan Bag of Words."
   ]
  },
  {
   "cell_type": "code",
   "execution_count": 57,
   "metadata": {},
   "outputs": [
    {
     "name": "stdout",
     "output_type": "stream",
     "text": [
      "Pearson correlation between  TestPredBow.txt  and  Test.txt :\t 0.43505461332032297\n",
      "Spearman correlation between  TestPredBow.txt  and  Test.txt :\t 0.4252365546885121\n",
      "Pearson correlation for gold scores in range 0.5-1 between  TestPredBow.txt  and  Test.txt :\t 0.3303219247731476\n",
      "Spearman correlation for gold scores in range 0.5-1 between  TestPredBow.txt  and  Test.txt :\t 0.2988058045976678\n",
      "\n",
      "Average Pearson correlation:\t 0.43505461332032297\n",
      "Average Spearman correlation:\t 0.4252365546885121\n",
      "Average Pearson correlation for gold scores in range 0.5-1:\t 0.3303219247731476\n",
      "Average Spearman correlationfor gold scores in range 0.5-1:\t 0.2988058045976678\n"
     ]
    }
   ],
   "source": [
    "!python evaluate.py 1 TestPredBow.txt Test.txt"
   ]
  },
  {
   "cell_type": "markdown",
   "metadata": {},
   "source": [
    "Dari outputnya, dapat dilihat bahwa rata-rata korelasinya baik Pearson dan Spearman lebih tinggi dibanding rata-rata korelasi dalam development set. Namun, rata-rata korelasi untuk gold scorenya lebih rendah dibanding rata-rata korelasi dalam development set. \n",
    "\n",
    "Walaupun korelasi Pearson lebih tinggi nilainya dibanding Spearman, nilai keduanya masih di bawah 0,5 untuk kedua kategori, sehingga model ini masih termasuk model yang berkorelasi rendah antara prediksi dan data aslinya.\n",
    "\n",
    "- **Menggunakan TF-IDF**\n",
    "\n",
    "Berikut adalah evaluasi menggunakan metode korelasi Pearson dan Spearman dari model SVR yang menggunakan TF-IDF."
   ]
  },
  {
   "cell_type": "code",
   "execution_count": 58,
   "metadata": {},
   "outputs": [
    {
     "name": "stdout",
     "output_type": "stream",
     "text": [
      "Pearson correlation between  TestPredTFIDF.txt  and  Test.txt :\t 0.4409088610668062\n",
      "Spearman correlation between  TestPredTFIDF.txt  and  Test.txt :\t 0.4248288612090128\n",
      "Pearson correlation for gold scores in range 0.5-1 between  TestPredTFIDF.txt  and  Test.txt :\t 0.32947103589096755\n",
      "Spearman correlation for gold scores in range 0.5-1 between  TestPredTFIDF.txt  and  Test.txt :\t 0.2971136868202509\n",
      "\n",
      "Average Pearson correlation:\t 0.4409088610668062\n",
      "Average Spearman correlation:\t 0.4248288612090128\n",
      "Average Pearson correlation for gold scores in range 0.5-1:\t 0.32947103589096755\n",
      "Average Spearman correlationfor gold scores in range 0.5-1:\t 0.2971136868202509\n"
     ]
    }
   ],
   "source": [
    "!python evaluate.py 1 TestPredTFIDF.txt Test.txt"
   ]
  },
  {
   "cell_type": "markdown",
   "metadata": {},
   "source": [
    "Dari outputnya, dapat dilihat bahwa rata-rata korelasinya baik Pearson dan Spearman lebih tinggi dibanding rata-rata korelasi dalam development set. Namun, rata-rata korelasi untuk gold scorenya lebih rendah dibanding rata-rata korelasi dalam development set. \n",
    "\n",
    "Walaupun korelasi Pearson lebih tinggi nilainya dibanding Spearman, nilai keduanya masih di bawah 0,5 untuk kedua kategori, sehingga model ini masih termasuk model yang berkorelasi rendah antara prediksi dan data aslinya."
   ]
  },
  {
   "cell_type": "markdown",
   "metadata": {},
   "source": [
    "## 5. Analisis Singkat\n",
    "\n",
    "Setelah menjalankan EDA, training, testing, dan evaluasi, berikut adalah beberapa penemuan dalam notebook ini:\n",
    "\n",
    "### EDA\n",
    "- Tweet berlabel fear berjumlah paling banyak di antara label lain, sementara itu tweet berlabel sadness berjumlah paling sedikit.\n",
    "- 20 kata terbanyak digunakan dalam data frame training kebanyakan berupa stopwords.\n",
    "- Rata-rata jumlah kata per tweet adalah 16-17 dalam setiap kategorinya.\n",
    "- Rata-rata jumlah tanda baca dan emoji adalah kurang dari 1 dalam setiap kategorinya\n",
    "- Frekuensi intensitas emosi terbanyak pada anger, fear, dan joy berkisar dari 0,4  hingga 0,6, sementara pada sadness berkisar dari 0,2 hingga 0,4.\n",
    "\n",
    "### Training\n",
    "- Training menggunakan dataset training yang dites ke dataset development. Modelnya menggunakan SVR dengan Bag of Words dan TF-IDF sebagai feature extraction.\n",
    "- Walau menggunakan model yang sama, nilai model yang menggunakan BoW sebagai feature extraction dan TF-IDF berbeda.\n",
    "\n",
    "### Testing\n",
    "- Testing menggunakan dataset training yang dites ke dataset testing. Modelnya menggunakan SVR dengan Bag of Words dan TF-IDF sebagai feature extraction.\n",
    "- Walau menggunakan model yang sama, nilai model yang menggunakan BoW sebagai feature extraction dan TF-IDF berbeda.\n",
    "\n",
    "### Evaluation\n",
    "- Evaluation menggunakan model korelasi Pearson dan Spearman.\n",
    "- Nilai korelasi Pearson selalu lebih tinggi daripada Spearman.\n",
    "- Nilai korelasi TF-IDF selalu lebih tinggi daripada Bag of Words tiap set.\n",
    "- Nilai rata-rata korelasi gold score training set lebih rendah dibanding development set.\n",
    "- Semua nilai korelasi lebih rendah dibanding 0,5, sehingga model-model yang digunakan memiliki korelasi dan keakuratan prediksi yang rendah dibanding data aslinya\n",
    "- Oleh karenanya, diperlukan model yang lebih akurat untuk memprediksi intensitas emosi di dalam tweet."
   ]
  }
 ],
 "metadata": {
  "kernelspec": {
   "display_name": "Python 3",
   "language": "python",
   "name": "python3"
  },
  "language_info": {
   "codemirror_mode": {
    "name": "ipython",
    "version": 3
   },
   "file_extension": ".py",
   "mimetype": "text/x-python",
   "name": "python",
   "nbconvert_exporter": "python",
   "pygments_lexer": "ipython3",
   "version": "3.7.3"
  }
 },
 "nbformat": 4,
 "nbformat_minor": 4
}
